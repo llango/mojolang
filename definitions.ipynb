{
    "cells": [
        {
            "attachments": {},
            "cell_type": "markdown",
            "metadata": {},
            "source": [
                "# Definitions \n",
                "## inout\n",
                "Any mutations `in` the function will persist `out` of the function, also known as a mutable reference\n",
                "\n",
                "## argument\n",
                "A value that you pass to a function when calling it, or the identifier in the function definition:"
            ]
        },
        {
            "cell_type": "code",
            "execution_count": 1,
            "metadata": {},
            "outputs": [],
            "source": [
                "fn example(argument: Int):\n",
                "    pass"
            ]
        },
        {
            "attachments": {},
            "cell_type": "markdown",
            "metadata": {},
            "source": [
                "## parameter\n",
                "Not to be confused with `argument`, these go in the `[]` brackets in a method or function definition. Everything inside these brackets must be known at compile time:"
            ]
        },
        {
            "cell_type": "code",
            "execution_count": 2,
            "metadata": {},
            "outputs": [],
            "source": [
                "fn example[parameter: Int](argument: Int):\n",
                "    pass"
            ]
        },
        {
            "attachments": {},
            "cell_type": "markdown",
            "metadata": {},
            "source": [
                "The `@parameter` decorator over an `if` statement runs during compilation:"
            ]
        },
        {
            "cell_type": "code",
            "execution_count": 3,
            "metadata": {},
            "outputs": [
                {
                    "name": "stdout",
                    "output_type": "stream",
                    "text": [
                        "this will be included in the binary\n"
                    ]
                }
            ],
            "source": [
                "from TargetInfo import os_is_linux\n",
                "@parameter\n",
                "if os_is_linux():\n",
                "    print(\"this will be included in the binary\")\n",
                "else:\n",
                "    print(\"this will be eliminated from compilation process\")"
            ]
        },
        {
            "attachments": {},
            "cell_type": "markdown",
            "metadata": {},
            "source": [
                "# register_passable \n",
                "You can decorate a type with `@register_passable` to indicate it's not `memory only`, for example a `UInt3232` is just 32 bits for the actual value and can be directly copied into and out of registers, while a `String` contains an address that requires indirection to access the data so it's `memory only`.\n",
                "\n",
                "Create a type with a pair of `UInt3232` and mark it register passable:"
            ]
        },
        {
            "cell_type": "code",
            "execution_count": 4,
            "metadata": {},
            "outputs": [],
            "source": [
                "@register_passable\n",
                "struct Pair:\n",
                "    var a: Int\n",
                "    var b: Int\n",
                "\n",
                "    fn __copyinit__(self) -> Self:\n",
                "        return Self{a: self.a, b: self.b}\n",
                "\n",
                "    fn __del__(owned self):\n",
                "        print(\"dropping\")"
            ]
        },
        {
            "attachments": {},
            "cell_type": "markdown",
            "metadata": {},
            "source": [
                "`__copyinit__` and `__del__` aren't required, this is just to indicate that you can define how it copies if you like, and do something special when the object is dropped:"
            ]
        },
        {
            "cell_type": "code",
            "execution_count": 5,
            "metadata": {},
            "outputs": [
                {
                    "name": "stdout",
                    "output_type": "stream",
                    "text": [
                        "dropping\n",
                        "5 10\n",
                        "dropping\n",
                        "10 20\n"
                    ]
                }
            ],
            "source": [
                "fn test():\n",
                "    let x = Pair{a: 5, b: 10}\n",
                "    var y = x\n",
                "    y.a = 10\n",
                "    y.b = 20\n",
                "\n",
                "    print(x.a, x.b)\n",
                "    print(y.a, y.b)\n",
                "\n",
                "test()"
            ]
        },
        {
            "attachments": {},
            "cell_type": "markdown",
            "metadata": {},
            "source": [
                "Generally you just want to mark it with the [@value](/guides/decorators/value) decorator, which will give you everything you need for `value-semantics`:"
            ]
        },
        {
            "cell_type": "code",
            "execution_count": 6,
            "metadata": {},
            "outputs": [
                {
                    "name": "stdout",
                    "output_type": "stream",
                    "text": [
                        "5 10\n"
                    ]
                }
            ],
            "source": [
                "@value\n",
                "@register_passable\n",
                "struct Pair:\n",
                "    var a: Int\n",
                "    var b: Int\n",
                "\n",
                "let x = Pair(5, 10)\n",
                "print(x.a, x.b)"
            ]
        },
        {
            "attachments": {},
            "cell_type": "markdown",
            "metadata": {},
            "source": [
                "Trying to define `__moveinit__` will result in an error, the whole idea behind `register_passable` is that the type is moveable into or out of a register by copying without any indirection:"
            ]
        },
        {
            "cell_type": "code",
            "execution_count": 7,
            "metadata": {},
            "outputs": [
                {
                    "name": "stderr",
                    "output_type": "stream",
                    "text": [
                        "error: \u001b[0;1;31m\u001b[1mExpression [7]:10:5: \u001b[0m\u001b[1m'__moveinit__' is not supported for @register_passable types, they are always movable by copying a register\n",
                        "\u001b[0m    fn __moveinit__(inout self, owned exisiting: Self):\n",
                        "\u001b[0;1;32m    ^\n",
                        "\u001b[0m\u001b[0m\n",
                        "error: \u001b[0;1;31m\u001b[1mExpression [7]:10:5: \u001b[0m\u001b[1m'__moveinit__' result type must be 'Pair'\n",
                        "\u001b[0m    fn __moveinit__(inout self, owned exisiting: Self):\n",
                        "\u001b[0;1;32m    ^\n",
                        "\u001b[0m\u001b[0m\n",
                        "error: \u001b[0;1;31m\u001b[1mExpression [7]:12:18: \u001b[0m\u001b[1muse of unknown declaration 'existing', 'fn' declarations require explicit variable declarations\n",
                        "\u001b[0m        self.b = existing.b\n",
                        "\u001b[0;1;32m                 ^~~~~~~~\n",
                        "\u001b[0m\u001b[0m\n"
                    ]
                }
            ],
            "source": [
                "@register_passable\n",
                "struct Pair:\n",
                "    var a: Int\n",
                "    var b: Int\n",
                "\n",
                "    fn __moveinit__(inout self, owned exisiting: Self):\n",
                "        self.a = exisiting.a\n",
                "        self.b = existing.b"
            ]
        },
        {
            "attachments": {},
            "cell_type": "markdown",
            "metadata": {},
            "source": [
                "## trivial\n",
                "For a trivial type you can't define `__init__`, `__copyinit__`, `__moveinit__`, `__del__`, moving is `trivial` because it always moves by copy, there is no special logic required for indirection or anything else.\n",
                "\n",
                "Examples of trivial types:\n",
                "- Arithmetic types such as `Int`, `Bool`, `Float64` etc.\n",
                "- Pointers\n",
                "- Arrays of other trivial types including SIMD\n",
                "- Struct only trivial types decorated with `@register_passable(\"trivial\")`:"
            ]
        },
        {
            "cell_type": "code",
            "execution_count": 8,
            "metadata": {},
            "outputs": [],
            "source": [
                "@register_passable(\"trivial\")\n",
                "struct Pair:\n",
                "    var a: Int\n",
                "    var b: Int"
            ]
        }
    ],
    "metadata": {
        "kernelspec": {
            "display_name": "Mojo",
            "language": "mojo",
            "name": "mojo-jupyter-kernel"
        },
        "language_info": {
            "codemirror_mode": {
                "name": "mojo"
            },
            "file_extension": ".mojo",
            "mimetype": "text/x-mojo",
            "name": "mojo"
        },
        "orig_nbformat": 4
    },
    "nbformat": 4,
    "nbformat_minor": 2
}
