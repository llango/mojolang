{
 "cells": [
  {
   "attachments": {},
   "cell_type": "markdown",
   "metadata": {},
   "source": [
    "---\n",
    "usage: Causes the function or if statement to run at compile time\n",
    "---\n",
    "\n",
    "# @parameter\n",
    "\n",
    "## if statement\n",
    "\n",
    "This will cause the `if` statement to run at compile time, there is no runtime performance cost because the path that doesn't run will be excluded from the final binary:"
   ]
  },
  {
   "cell_type": "code",
   "execution_count": 1,
   "metadata": {},
   "outputs": [
    {
     "name": "stdout",
     "output_type": "stream",
     "text": [
      "this will be included in the binary\n"
     ]
    }
   ],
   "source": [
    "from TargetInfo import os_is_linux\n",
    "\n",
    "@parameter\n",
    "if os_is_linux():\n",
    "    print(\"this will be included in the binary\")\n",
    "else:\n",
    "    print(\"this will be eliminated from compilation process\")"
   ]
  },
  {
   "attachments": {},
   "cell_type": "markdown",
   "metadata": {},
   "source": [
    "## function\n",
    "\n",
    "This will run at compile time, so that you pay no runtime price for anything inside the function:"
   ]
  },
  {
   "cell_type": "code",
   "execution_count": 4,
   "metadata": {},
   "outputs": [
    {
     "name": "stdout",
     "output_type": "stream",
     "text": [
      "15\n"
     ]
    }
   ],
   "source": [
    "fn add_print[a: Int, b: Int](): \n",
    "    @parameter\n",
    "    fn add[a: Int, b: Int]() -> Int:\n",
    "        return a + b\n",
    "\n",
    "    let x = add[a, b]()\n",
    "    print(x)\n",
    "\n",
    "add_print[5, 10]()"
   ]
  },
  {
   "attachments": {},
   "cell_type": "markdown",
   "metadata": {},
   "source": [
    "What this essentially translates to is:"
   ]
  },
  {
   "cell_type": "code",
   "execution_count": 3,
   "metadata": {},
   "outputs": [
    {
     "name": "stdout",
     "output_type": "stream",
     "text": [
      "15\n"
     ]
    }
   ],
   "source": [
    "fn add_print(): \n",
    "    let x = 15\n",
    "    print(x)\n",
    "\n",
    "add_print()"
   ]
  },
  {
   "attachments": {},
   "cell_type": "markdown",
   "metadata": {},
   "source": [
    "The `add` calculation ran at compile time, so those extra instructions don't happen at runtime "
   ]
  },
  {
   "attachments": {},
   "cell_type": "markdown",
   "metadata": {},
   "source": [
    "<CommentService />"
   ]
  }
 ],
 "metadata": {
  "kernelspec": {
   "display_name": "Mojo",
   "language": "mojo",
   "name": "mojo-jupyter-kernel"
  },
  "language_info": {
   "codemirror_mode": {
    "name": "mojo"
   },
   "file_extension": ".mojo",
   "mimetype": "text/x-mojo",
   "name": "mojo"
  },
  "orig_nbformat": 4
 },
 "nbformat": 4,
 "nbformat_minor": 2
}
