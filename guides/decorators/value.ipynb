{
 "cells": [
  {
   "attachments": {},
   "cell_type": "markdown",
   "metadata": {},
   "source": [
    "---\n",
    "usage: Generates initialization, move and copy boilerplate\n",
    "---\n",
    "\n",
    "# @value\n",
    "Generates boilerplate for a struct, for example on this struct with nothing implemented:"
   ]
  },
  {
   "cell_type": "code",
   "execution_count": 1,
   "metadata": {},
   "outputs": [],
   "source": [
    "struct Pair:\n",
    "    var x: Int\n",
    "    var y: Int"
   ]
  },
  {
   "attachments": {},
   "cell_type": "markdown",
   "metadata": {},
   "source": [
    "We can't initialize the struct:"
   ]
  },
  {
   "cell_type": "code",
   "execution_count": 2,
   "metadata": {},
   "outputs": [
    {
     "name": "stderr",
     "output_type": "stream",
     "text": [
      "error: \u001b[0;1;31m\u001b[1mExpression [2]:16:20: \u001b[0m\u001b[1m'Pair' does not implement any '__init__' methods in 'let' initializer\n",
      "\u001b[0m    let pair = Pair(5, 10)\n",
      "\u001b[0;1;32m               ~~~~^~~~~~~\n",
      "\u001b[0m\u001b[0m\n"
     ]
    }
   ],
   "source": [
    "let pair = Pair(5, 10)"
   ]
  },
  {
   "attachments": {},
   "cell_type": "markdown",
   "metadata": {},
   "source": [
    "Until we implement `__init__`:"
   ]
  },
  {
   "cell_type": "code",
   "execution_count": 3,
   "metadata": {},
   "outputs": [],
   "source": [
    "struct Pair:\n",
    "    var x: Int\n",
    "    var y: Int\n",
    "\n",
    "    fn __init__(inout self: Pair, x: Int, y: Int):\n",
    "        self.x = x\n",
    "        self.y = y"
   ]
  },
  {
   "cell_type": "code",
   "execution_count": 4,
   "metadata": {},
   "outputs": [
    {
     "name": "stdout",
     "output_type": "stream",
     "text": [
      "5\n"
     ]
    }
   ],
   "source": [
    "let pair = Pair(5, 10)\n",
    "print(pair.x)"
   ]
  },
  {
   "attachments": {},
   "cell_type": "markdown",
   "metadata": {},
   "source": [
    "But now we can't copy or move it:"
   ]
  },
  {
   "cell_type": "code",
   "execution_count": 5,
   "metadata": {},
   "outputs": [
    {
     "name": "stderr",
     "output_type": "stream",
     "text": [
      "error: \u001b[0;1;31m\u001b[1mExpression [5]:16:17: \u001b[0m\u001b[1mvalue of type 'Pair' cannot be copied into its destination\n",
      "\u001b[0m    let pair2 = pair\n",
      "\u001b[0;1;32m                ^~~~\n",
      "\u001b[0m\u001b[0m\n"
     ]
    }
   ],
   "source": [
    "let pair2 = pair"
   ]
  },
  {
   "cell_type": "code",
   "execution_count": 16,
   "metadata": {},
   "outputs": [
    {
     "name": "stderr",
     "output_type": "stream",
     "text": [
      "error: \u001b[0;1;31m\u001b[1mExpression [16]:18:21: \u001b[0m\u001b[1mvalue of type 'Pair' cannot be copied into its destination\n",
      "\u001b[0m    let pair2 = pair^\n",
      "\u001b[0;1;32m                    ^\n",
      "\u001b[0m\u001b[0m\n",
      "error: \u001b[0;1;31m\u001b[1mExpression [16]:18:21: \u001b[0m\u001b[1mexpression does not designate a value with a lifetime\n",
      "\u001b[0m    let pair2 = pair^\n",
      "\u001b[0;1;32m                    ^\n",
      "\u001b[0m\u001b[0m\n"
     ]
    }
   ],
   "source": [
    "let pair2 = pair^"
   ]
  },
  {
   "attachments": {},
   "cell_type": "markdown",
   "metadata": {},
   "source": [
    "Until we implement `__moveinit__` and `__copyinit__`:"
   ]
  },
  {
   "cell_type": "code",
   "execution_count": 26,
   "metadata": {},
   "outputs": [],
   "source": [
    "struct Pair:\n",
    "    var x: Int\n",
    "    var y: Int\n",
    "\n",
    "    fn __init__(inout self, x: Int, y: Int):\n",
    "        print(\"Running init\")\n",
    "        self.x = x\n",
    "        self.y = y\n",
    "\n",
    "    fn __moveinit__(inout self, owned existing: Self):\n",
    "        print(\"Running move init\")\n",
    "        self.x = existing.x\n",
    "        self.y = existing.x\n",
    "\n",
    "    fn __copyinit__(inout self, existing: Self):\n",
    "        print(\"Running copy init\")\n",
    "        self.x = existing.x\n",
    "        self.y = existing.y\n"
   ]
  },
  {
   "cell_type": "code",
   "execution_count": 27,
   "metadata": {},
   "outputs": [
    {
     "name": "stdout",
     "output_type": "stream",
     "text": [
      "Running init\n",
      "Running move init\n",
      "Running copy init\n"
     ]
    }
   ],
   "source": [
    "let pair = Pair(5, 10)\n",
    "\n",
    "# Move object\n",
    "let pair2 = pair^\n",
    "\n",
    "# Copy object\n",
    "let pair3 = pair2"
   ]
  },
  {
   "attachments": {},
   "cell_type": "markdown",
   "metadata": {},
   "source": [
    "To generate all that boilerplate for our members you can annotate with `@value`:"
   ]
  },
  {
   "cell_type": "code",
   "execution_count": 33,
   "metadata": {},
   "outputs": [
    {
     "name": "stdout",
     "output_type": "stream",
     "text": [
      "20\n",
      "5\n"
     ]
    }
   ],
   "source": [
    "@value\n",
    "struct Pair:\n",
    "    var x: Int\n",
    "    var y: Int\n"
   ]
  },
  {
   "attachments": {},
   "cell_type": "markdown",
   "metadata": {},
   "source": [
    "And use it as normal:"
   ]
  },
  {
   "cell_type": "code",
   "execution_count": 34,
   "metadata": {},
   "outputs": [
    {
     "name": "stdout",
     "output_type": "stream",
     "text": [
      "20\n",
      "5\n"
     ]
    }
   ],
   "source": [
    "let pair = Pair(5, 10)\n",
    "\n",
    "# Move object\n",
    "var pair2 = pair^\n",
    "# Copy object\n",
    "let pair3 = pair2\n",
    "# Edit original\n",
    "pair2.x = 20\n",
    "\n",
    "# Print both the original and copy\n",
    "print(pair2.x)\n",
    "print(pair3.x)"
   ]
  },
  {
   "attachments": {},
   "cell_type": "markdown",
   "metadata": {},
   "source": [
    "<CommentService />"
   ]
  }
 ],
 "metadata": {
  "kernelspec": {
   "display_name": "Mojo",
   "language": "mojo",
   "name": "mojo-jupyter-kernel"
  },
  "language_info": {
   "codemirror_mode": {
    "name": "mojo"
   },
   "file_extension": ".mojo",
   "mimetype": "text/x-mojo",
   "name": "mojo"
  },
  "orig_nbformat": 4
 },
 "nbformat": 4,
 "nbformat_minor": 2
}
