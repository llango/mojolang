{
    "cells": [
        {
            "attachments": {},
            "cell_type": "markdown",
            "metadata": {},
            "source": [
                "---\n",
                "usage: Indicates the values can be passed through registers\n",
                "---\n",
                "\n",
                "# @register_passable \n",
                "You can decorate a type with `@register_passable` which allows a type to passed through registers and adds some generic behaviour, for example a `UInt32` is just 32 bits for the actual value and can be directly copied into and out of registers, while a `String` contains a pointer that requires special constructor and destructor behavior to allocate and free memory so it's `memory only`.\n",
                "\n",
                "Create a type with a pair of `UInt32` and mark it register passable:"
            ]
        },
        {
            "cell_type": "code",
            "execution_count": 1,
            "metadata": {},
            "outputs": [],
            "source": [
                "@register_passable\n",
                "struct Pair:\n",
                "    var a: UInt32\n",
                "    var b: UInt32\n",
                "\n",
                "    fn __init__(a: UInt32, b: UInt32) -> Self:\n",
                "        return Self{a: 2, b: 4}\n",
                "\n",
                "    fn __copyinit__(self) -> Self:\n",
                "        return Self{a: 2, b: 4}\n",
                "\n",
                "    fn __del__(owned self):\n",
                "        print(\"running __del__\")"
            ]
        },
        {
            "attachments": {},
            "cell_type": "markdown",
            "metadata": {},
            "source": [
                "`__init__`, `__copyinit__` and `__del__` aren't required, this is just to indicate what you can define on a `@register_passable` type, for example printing something when the object is dropped:"
            ]
        },
        {
            "cell_type": "code",
            "execution_count": 9,
            "metadata": {},
            "outputs": [
                {
                    "name": "stdout",
                    "output_type": "stream",
                    "text": [
                        "running __del__\n",
                        "2 4\n",
                        "running __del__\n",
                        "10 20\n"
                    ]
                }
            ],
            "source": [
                "fn test():\n",
                "    let x = Pair(5, 10)\n",
                "    var y = x\n",
                "    y.a = 10\n",
                "    y.b = 20\n",
                "\n",
                "    print(x.a, x.b)\n",
                "    print(y.a, y.b)\n",
                "\n",
                "test()"
            ]
        },
        {
            "attachments": {},
            "cell_type": "markdown",
            "metadata": {},
            "source": [
                "Generally you will also want to mark it with the [@value](/guides/decorators/value) decorator, which implements all the boilerplate for you:"
            ]
        },
        {
            "cell_type": "code",
            "execution_count": 10,
            "metadata": {},
            "outputs": [
                {
                    "name": "stdout",
                    "output_type": "stream",
                    "text": [
                        "5 10\n"
                    ]
                }
            ],
            "source": [
                "@value\n",
                "@register_passable\n",
                "struct Pair:\n",
                "    var a: Int\n",
                "    var b: Int\n",
                "\n",
                "let x = Pair(5, 10)\n",
                "print(x.a, x.b)"
            ]
        },
        {
            "attachments": {},
            "cell_type": "markdown",
            "metadata": {},
            "source": [
                "Trying to define `__moveinit__` will result in an error, the whole idea behind `@register_passable` is that you can copy it into or out of a register by copying:"
            ]
        },
        {
            "cell_type": "code",
            "execution_count": 11,
            "metadata": {},
            "outputs": [
                {
                    "name": "stderr",
                    "output_type": "stream",
                    "text": [
                        "error: \u001b[0;1;31m\u001b[1mExpression [11]:10:5: \u001b[0m\u001b[1m'__moveinit__' is not supported for @register_passable types, they are always movable by copying a register\n",
                        "\u001b[0m    fn __moveinit__(inout self, owned exisiting: Self):\n",
                        "\u001b[0;1;32m    ^\n",
                        "\u001b[0m\u001b[0m\n",
                        "error: \u001b[0;1;31m\u001b[1mExpression [11]:12:18: \u001b[0m\u001b[1muse of unknown declaration 'existing', 'fn' declarations require explicit variable declarations\n",
                        "\u001b[0m        self.b = existing.b\n",
                        "\u001b[0;1;32m                 ^~~~~~~~\n",
                        "\u001b[0m\u001b[0m\n"
                    ]
                }
            ],
            "source": [
                "@register_passable\n",
                "struct Pair:\n",
                "    var a: Int\n",
                "    var b: Int\n",
                "\n",
                "    fn __moveinit__(inout self, owned exisiting: Self):\n",
                "        self.a = exisiting.a\n",
                "        self.b = existing.b"
            ]
        },
        {
            "attachments": {},
            "cell_type": "markdown",
            "metadata": {},
            "source": [
                "## @register_passable(\"trivial\")\n",
                "This means you can't define:\n",
                "- `__init__`\n",
                "- `__copyinit__`\n",
                "- `__moveinit__`\n",
                "- `__del__`\n",
                "\n",
                "It's referred to as `trivial` because it is always pass by copy/value, there is no special logic required for destruction, construction, indirection or anything else. You can think of it like a `Int64` contains just 64 bits of data, generally lives on the stack, and can be copied straight into registers. You don't need any special allocation or memory freeing behaviour because it's `trivial`, copying it around everywhere is the most efficient way to use it. Right now Mojo's generics only work with trivial types because the compiler can treat these trivial types the same, while it can't generalize on objects that require special constructor and destructor behaviour. This will be resolved when `traits` are introduced.\n",
                "\n",
                "Examples of trivial types:\n",
                "- Arithmetic types such as `Int`, `Bool`, `Float64` etc.\n",
                "- Pointers (the address value is trivial, not the data being pointed to)\n",
                "- Arrays of other trivial types including SIMD\n",
                "- Struct types decorated with `@register_passable(\"trivial\")`, that can only contain other trivial types:"
            ]
        },
        {
            "cell_type": "code",
            "execution_count": 5,
            "metadata": {},
            "outputs": [],
            "source": [
                "@register_passable(\"trivial\")\n",
                "struct Pair:\n",
                "    var a: Int\n",
                "    var b: Int"
            ]
        },
        {
            "attachments": {},
            "cell_type": "markdown",
            "metadata": {},
            "source": [
                "<CommentService />"
            ]
        }
    ],
    "metadata": {
        "kernelspec": {
            "display_name": "Mojo",
            "language": "mojo",
            "name": "mojo-jupyter-kernel"
        },
        "language_info": {
            "codemirror_mode": {
                "name": "mojo"
            },
            "file_extension": ".mojo",
            "mimetype": "text/x-mojo",
            "name": "mojo"
        },
        "orig_nbformat": 4
    },
    "nbformat": 4,
    "nbformat_minor": 2
}
