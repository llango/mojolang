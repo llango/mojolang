{
 "cells": [
  {
   "attachments": {},
   "cell_type": "markdown",
   "metadata": {},
   "source": [
    "---\n",
    "usage: Causes body of the function to be copied directly into the body of the calling function in the final binary \n",
    "---\n",
    "\n",
    "# @always_inline\n",
    "At compile time this causes the body of the function to be copied or `inlined` directly into the body of the calling function for the final binary. This removes overhead associated with function calls jumping to a new point in code. Normally the compiler will do this automatically where it improves performance, but this decorator forces it to occur, the downside is that it can increase the binary size for the duplicated functions.\n",
    "\n",
    "## @always_inline(\"nodebug\")\n",
    "This works the same but doesn't include debug information so you can't step into the function when debugging, but it will reduce debug build binary size.\n",
    "\n",
    "<CommentService />"
   ]
  }
 ],
 "metadata": {
  "language_info": {
   "name": "python"
  },
  "orig_nbformat": 4
 },
 "nbformat": 4,
 "nbformat_minor": 2
}
