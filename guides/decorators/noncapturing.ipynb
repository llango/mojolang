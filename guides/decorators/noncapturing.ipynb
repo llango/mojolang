{
 "cells": [
  {
   "attachments": {},
   "cell_type": "markdown",
   "metadata": {},
   "source": [
    "---\n",
    "usage: Marks a closure as not capturing variables from the outer scope\n",
    "---\n",
    "\n",
    "# @noncapturing\n",
    "Marks a closure as not capturing variables from the outer scope.\n",
    "\n",
    "Mojo considers closures capturing by default, even if it's not capturing anything, for example if you don't put the `capturing` keyword after `fn()` you'll get a compiler error:"
   ]
  },
  {
   "cell_type": "code",
   "execution_count": 5,
   "metadata": {},
   "outputs": [
    {
     "name": "stderr",
     "output_type": "stream",
     "text": [
      "error: \u001b[0;1;31m\u001b[1mExpression [5]:12:10: \u001b[0m\u001b[1minvalid call to 'outer': argument #0 cannot be converted from 'fn() capturing -> None' to 'fn() -> None'\n",
      "\u001b[0m    outer(inner) \n",
      "\u001b[0;1;32m    ~~~~~^~~~~~~\n",
      "\u001b[0m\u001b[0m\n",
      "\u001b[0;1;30m\u001b[1mExpression [5]:5:1: \u001b[0m\u001b[1mfunction declared here\n",
      "\u001b[0mfn outer(f: fn() -> None):\n",
      "\u001b[0;1;32m^\n",
      "\u001b[0m\u001b[0m\n",
      "expression failed to parse (no further compiler diagnostics)"
     ]
    }
   ],
   "source": [
    "fn outer(f: fn() -> None):\n",
    "    f()\n",
    "\n",
    "fn call_it():\n",
    "    fn inner():\n",
    "        print(\"inner\")\n",
    "\n",
    "    outer(inner) \n",
    "\n",
    "call_it()"
   ]
  },
  {
   "cell_type": "markdown",
   "metadata": {},
   "source": [
    "You can fix it by adding the `capturing` keyword:"
   ]
  },
  {
   "cell_type": "code",
   "execution_count": 6,
   "metadata": {},
   "outputs": [
    {
     "name": "stdout",
     "output_type": "stream",
     "text": [
      "inner\n"
     ]
    }
   ],
   "source": [
    "fn outer(f: fn() capturing -> None):\n",
    "    f()\n",
    "\n",
    "fn call_it():\n",
    "    fn inner():\n",
    "        print(\"inner\")\n",
    "\n",
    "    outer(inner) \n",
    "\n",
    "call_it()"
   ]
  },
  {
   "cell_type": "markdown",
   "metadata": {},
   "source": [
    "Alternatively, because it's not actually capturing any outer values you can annotate with `@noncapturing`:"
   ]
  },
  {
   "cell_type": "code",
   "execution_count": 8,
   "metadata": {},
   "outputs": [
    {
     "name": "stdout",
     "output_type": "stream",
     "text": [
      "inner\n"
     ]
    }
   ],
   "source": [
    "fn outer(f: fn() -> None):\n",
    "    f()\n",
    "\n",
    "fn call_it():\n",
    "    @noncapturing\n",
    "    fn inner():\n",
    "        print(\"inner\")\n",
    "\n",
    "    outer(inner) \n",
    "\n",
    "call_it()"
   ]
  },
  {
   "cell_type": "markdown",
   "metadata": {},
   "source": [
    "To give you a sense of what capturing is in a closure, let's take a look:"
   ]
  },
  {
   "cell_type": "code",
   "execution_count": 11,
   "metadata": {},
   "outputs": [
    {
     "name": "stdout",
     "output_type": "stream",
     "text": [
      "5\n"
     ]
    }
   ],
   "source": [
    "fn outer(f: fn() capturing -> Int):\n",
    "    print(f())\n",
    "\n",
    "fn call_it():\n",
    "    let a = 5 \n",
    "    fn inner() -> Int:\n",
    "        return a\n",
    "\n",
    "    outer(inner) \n",
    "\n",
    "call_it()"
   ]
  },
  {
   "cell_type": "markdown",
   "metadata": {},
   "source": [
    "You can see that we captured the `a` variable in the inner closure and returned it to the outer function"
   ]
  },
  {
   "cell_type": "markdown",
   "metadata": {},
   "source": [
    "<CommentService />"
   ]
  }
 ],
 "metadata": {
  "kernelspec": {
   "display_name": "Mojo",
   "language": "mojo",
   "name": "mojo-jupyter-kernel"
  },
  "language_info": {
   "codemirror_mode": {
    "name": "mojo"
   },
   "file_extension": ".mojo",
   "mimetype": "text/x-mojo",
   "name": "mojo"
  },
  "orig_nbformat": 4
 },
 "nbformat": 4,
 "nbformat_minor": 2
}
