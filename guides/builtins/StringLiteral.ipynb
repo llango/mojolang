{
 "cells": [
  {
   "attachments": {},
   "cell_type": "markdown",
   "metadata": {},
   "source": [
    "---\n",
    "title: StringLiteral\n",
    "categories: Builtins\n",
    "usage: This type represents a string literal. String literals are all null-terminated for compatibility with C APIs, but this is subject to change. String literals store their length as an integer, and this does not include the null terminator.\n",
    "---\n",
    "\n",
    "Contributed by [Lorenzobattistela](https://github.com/Lorenzobattistela)\n",
    "\n",
    "# StringLiteral\n",
    "\n",
    "This type represents a string literal.\n",
    "\n",
    "String literals are all null-terminated for compatibility with C APIs, but this is subject to change. String literals store their length as an integer, and this does not include the null terminator.\n",
    "\n",
    "\n",
    "## init"
   ]
  },
  {
   "cell_type": "code",
   "execution_count": 1,
   "metadata": {},
   "outputs": [
    {
     "name": "stdout",
     "output_type": "stream",
     "text": [
      "Literal\n",
      "StringLiteral\n"
     ]
    }
   ],
   "source": [
    "var x: StringLiteral = \"Literal\"\n",
    "print(x)\n",
    "\n",
    "var y = \"StringLiteral\"\n",
    "print(y)"
   ]
  },
  {
   "attachments": {},
   "cell_type": "markdown",
   "metadata": {},
   "source": [
    "## fields\n",
    "\n",
    "- `value`: The MLIR storage for the string literal, lets force an error to see the type:"
   ]
  },
  {
   "cell_type": "code",
   "execution_count": 3,
   "metadata": {},
   "outputs": [
    {
     "name": "stderr",
     "output_type": "stream",
     "text": [
      "error: \u001b[0;1;31m\u001b[1mExpression [3]:19:15: \u001b[0m\u001b[1mcannot implicitly convert 'Int' value to 'string' in assignment\n",
      "\u001b[0m    y.value = 0\n",
      "\u001b[0;1;32m              ^\n",
      "\u001b[0m\u001b[0m\n",
      "expression failed to parse (no further compiler diagnostics)"
     ]
    }
   ],
   "source": [
    "y.value = 0"
   ]
  },
  {
   "attachments": {},
   "cell_type": "markdown",
   "metadata": {},
   "source": [
    "You can also print it directly:"
   ]
  },
  {
   "cell_type": "code",
   "execution_count": 4,
   "metadata": {},
   "outputs": [
    {
     "name": "stdout",
     "output_type": "stream",
     "text": [
      "StringLiteral\n"
     ]
    }
   ],
   "source": [
    "print(y.value)"
   ]
  },
  {
   "attachments": {},
   "cell_type": "markdown",
   "metadata": {},
   "source": [
    "## bool\n",
    "\n",
    "Convert the string to a boolean value. True if the string is not empty, false otherwise."
   ]
  },
  {
   "cell_type": "code",
   "execution_count": 5,
   "metadata": {},
   "outputs": [
    {
     "name": "stdout",
     "output_type": "stream",
     "text": [
      "False\n",
      "True\n"
     ]
    }
   ],
   "source": [
    "var x = \"\"\n",
    "print(x.__bool__())\n",
    "\n",
    "var y = \"a\"\n",
    "print(y.__bool__())"
   ]
  },
  {
   "attachments": {},
   "cell_type": "markdown",
   "metadata": {},
   "source": [
    "## equal\n",
    "\n",
    "Compare the equality of two strings, receiving other StringLiteral as parameter. True if equal."
   ]
  },
  {
   "cell_type": "code",
   "execution_count": 6,
   "metadata": {},
   "outputs": [
    {
     "name": "stdout",
     "output_type": "stream",
     "text": [
      "True\n",
      "False\n",
      "True\n"
     ]
    }
   ],
   "source": [
    "var x = \"abc\"\n",
    "var y = \"abc\"\n",
    "var z = \"ab\"\n",
    "\n",
    "print(x.__eq__(y))\n",
    "print(x.__eq__(z))\n",
    "print(x == y)"
   ]
  },
  {
   "attachments": {},
   "cell_type": "markdown",
   "metadata": {},
   "source": [
    "## not equal\n",
    "\n",
    "Compare the inequality of two strings, receiving other StringLiteral as parameter. True if not equal."
   ]
  },
  {
   "cell_type": "code",
   "execution_count": 7,
   "metadata": {},
   "outputs": [
    {
     "name": "stdout",
     "output_type": "stream",
     "text": [
      "False\n",
      "True\n",
      "False\n"
     ]
    }
   ],
   "source": [
    "var x = \"abc\"\n",
    "var y = \"abc\"\n",
    "var z = \"ab\"\n",
    "\n",
    "print(x.__ne__(y))\n",
    "print(x.__ne__(z))\n",
    "print(x != y)"
   ]
  },
  {
   "attachments": {},
   "cell_type": "markdown",
   "metadata": {},
   "source": [
    "## add\n",
    "\n",
    "Concatenate two StringLiterals."
   ]
  },
  {
   "cell_type": "code",
   "execution_count": 8,
   "metadata": {},
   "outputs": [
    {
     "name": "stdout",
     "output_type": "stream",
     "text": [
      "hello world\n",
      "hello world\n"
     ]
    }
   ],
   "source": [
    "let x = \"hello \"\n",
    "let y = \"world\"\n",
    "\n",
    "var c = x.__add__(y)\n",
    "var d = x + y\n",
    "\n",
    "print(c)\n",
    "print(d)"
   ]
  },
  {
   "attachments": {},
   "cell_type": "markdown",
   "metadata": {},
   "source": [
    "## len\n",
    "\n",
    "Return the length of the string."
   ]
  },
  {
   "cell_type": "code",
   "execution_count": 9,
   "metadata": {},
   "outputs": [
    {
     "name": "stdout",
     "output_type": "stream",
     "text": [
      "6\n",
      "6\n"
     ]
    }
   ],
   "source": [
    "var x = \"string\"\n",
    "print(x.__len__())\n",
    "print(len(x))"
   ]
  },
  {
   "attachments": {},
   "cell_type": "markdown",
   "metadata": {},
   "source": [
    "## data\n",
    "\n",
    "Get raw pointer to the underlying data.\n",
    "\n",
    "`pointer<scalar<si8>>` is the return type of the method. It means that the method returns a pointer to the underlying data of the string literal. The `si8`` indicates that the data is a sequence of 8-bit signed integers, which is a common way to represent characters in a string.\n",
    "\n",
    "So, if you have a StringLiteral object, you can call data() on it to get a pointer to its underlying data. This could be useful if you need to pass the string data to a function that requires a pointer, or if you want to perform low-level operations on the string data."
   ]
  },
  {
   "cell_type": "code",
   "execution_count": 10,
   "metadata": {},
   "outputs": [
    {
     "name": "stdout",
     "output_type": "stream",
     "text": [
      "string\n",
      "alo\n"
     ]
    }
   ],
   "source": [
    "var x = \"string\"\n",
    "var y = x.data()\n",
    "x = \"alo\"\n",
    "print(y)\n",
    "print(x)"
   ]
  },
  {
   "attachments": {},
   "cell_type": "markdown",
   "metadata": {},
   "source": [
    "<CommentService />"
   ]
  }
 ],
 "metadata": {
  "kernelspec": {
   "display_name": "Mojo",
   "language": "mojo",
   "name": "mojo-jupyter-kernel"
  },
  "language_info": {
   "codemirror_mode": {
    "name": "mojo"
   },
   "file_extension": ".mojo",
   "mimetype": "text/x-mojo",
   "name": "mojo"
  },
  "orig_nbformat": 4
 },
 "nbformat": 4,
 "nbformat_minor": 2
}
