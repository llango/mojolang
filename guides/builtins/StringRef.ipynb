{
 "cells": [
  {
   "attachments": {},
   "cell_type": "markdown",
   "metadata": {},
   "source": [
    "---\n",
    "title: StringRef\n",
    "categories: Builtins\n",
    "usage: Represent a constant reference to a string, i.e. a sequence of characters and a length, which need not be null terminated.\n",
    "---\n",
    "\n",
    "Contributed by [Lorenzobattistela](https://github.com/Lorenzobattistela)\n",
    "\n",
    "# StringRef\n",
    "\n",
    "Represent a constant reference to a string, i.e. a sequence of characters and a length, which need not be null terminated.\n",
    "\n",
    "## init"
   ]
  },
  {
   "cell_type": "code",
   "execution_count": 1,
   "metadata": {},
   "outputs": [
    {
     "name": "stdout",
     "output_type": "stream",
     "text": [
      "a\n"
     ]
    }
   ],
   "source": [
    "var x = StringRef(\"a\")\n",
    "print(x)"
   ]
  },
  {
   "attachments": {},
   "cell_type": "markdown",
   "metadata": {},
   "source": [
    "Or specifying the pointer"
   ]
  },
  {
   "cell_type": "code",
   "execution_count": 9,
   "metadata": {},
   "outputs": [
    {
     "name": "stdout",
     "output_type": "stream",
     "text": [
      "string\n"
     ]
    }
   ],
   "source": [
    "let x = \"string\"\n",
    "let ptr = x.data()\n",
    "let str_ref = StringRef(ptr)\n",
    "print(str_ref)"
   ]
  },
  {
   "cell_type": "code",
   "execution_count": 19,
   "metadata": {},
   "outputs": [
    {
     "name": "stdout",
     "output_type": "stream",
     "text": [
      "8\n",
      "string_2\n"
     ]
    }
   ],
   "source": [
    "let x = \"string_2\"\n",
    "let ptr = x.data()\n",
    "let length = len(x)\n",
    "\n",
    "let str_ref = StringRef(ptr, length)\n",
    "print(str_ref.length)\n",
    "print(str_ref)"
   ]
  },
  {
   "attachments": {},
   "cell_type": "markdown",
   "metadata": {},
   "source": [
    "## fields\n",
    "\n",
    "`data`: A pointer to the beginning of the string data being referenced.\n",
    "`length`: The length of the string being referenced."
   ]
  },
  {
   "cell_type": "code",
   "execution_count": 20,
   "metadata": {},
   "outputs": [
    {
     "name": "stdout",
     "output_type": "stream",
     "text": [
      "a\n",
      "1\n"
     ]
    }
   ],
   "source": [
    "var a : StringRef = StringRef(\"a\")\n",
    "print(a.data)\n",
    "print(a.length)"
   ]
  },
  {
   "attachments": {},
   "cell_type": "markdown",
   "metadata": {},
   "source": [
    "## getitem\n",
    "\n",
    "Get the string value at the specified position. It receives the index of the character to get. You can use the brackets notation to get the character at the specified position."
   ]
  },
  {
   "cell_type": "code",
   "execution_count": 21,
   "metadata": {},
   "outputs": [
    {
     "name": "stdout",
     "output_type": "stream",
     "text": [
      "h\n",
      "e\n"
     ]
    }
   ],
   "source": [
    "var x = StringRef(\"hello\")\n",
    "print(x.__getitem__(0))\n",
    "print(x[1])"
   ]
  },
  {
   "attachments": {},
   "cell_type": "markdown",
   "metadata": {},
   "source": [
    "## equal\n",
    "\n",
    "Compares two strings are equal."
   ]
  },
  {
   "cell_type": "code",
   "execution_count": 22,
   "metadata": {},
   "outputs": [
    {
     "name": "stdout",
     "output_type": "stream",
     "text": [
      "True\n",
      "True\n"
     ]
    }
   ],
   "source": [
    "var x = StringRef(\"hello\")\n",
    "var y = StringRef(\"hello\")\n",
    "print(x.__eq__(y))\n",
    "print(x == y)"
   ]
  },
  {
   "attachments": {},
   "cell_type": "markdown",
   "metadata": {},
   "source": [
    "## not equal\n",
    "\n",
    "Compares two strings are not equal."
   ]
  },
  {
   "cell_type": "code",
   "execution_count": 23,
   "metadata": {},
   "outputs": [
    {
     "name": "stdout",
     "output_type": "stream",
     "text": [
      "False\n",
      "False\n"
     ]
    }
   ],
   "source": [
    "var x = StringRef(\"hello\")\n",
    "var y = StringRef(\"hello\")\n",
    "print(x.__ne__(y))\n",
    "print(x != y)"
   ]
  },
  {
   "attachments": {},
   "cell_type": "markdown",
   "metadata": {},
   "source": [
    "## length\n",
    "\n",
    "Returns the length of the string."
   ]
  },
  {
   "cell_type": "code",
   "execution_count": 24,
   "metadata": {},
   "outputs": [
    {
     "name": "stdout",
     "output_type": "stream",
     "text": [
      "5\n",
      "5\n"
     ]
    }
   ],
   "source": [
    "var x = StringRef(\"hello\")\n",
    "print(x.__len__())\n",
    "print(len(x))"
   ]
  }
 ],
 "metadata": {
  "kernelspec": {
   "display_name": "Mojo",
   "language": "mojo",
   "name": "mojo-jupyter-kernel"
  },
  "language_info": {
   "codemirror_mode": {
    "name": "mojo"
   },
   "file_extension": ".mojo",
   "mimetype": "text/x-mojo",
   "name": "mojo"
  },
  "orig_nbformat": 4
 },
 "nbformat": 4,
 "nbformat_minor": 2
}
