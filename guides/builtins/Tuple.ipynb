{
    "cells": [
        {
            "attachments": {},
            "cell_type": "markdown",
            "metadata": {},
            "source": [
                "---\n",
                "title: Tuple\n",
                "categories: Builtins\n",
                "usage: Tuple literal, consists of zero or more values separated by commas.\n",
                "---\n",
                "\n",
                "Contributed by [gautam-e](https://github.com/gautam-e)\n",
                "\n",
                "# Tuple\n",
                "Tuple literal, consists of zero or more values separated by commas."
            ]
        },
        {
            "attachments": {},
            "cell_type": "markdown",
            "metadata": {},
            "source": [
                "## init\n",
                "These are the same, as `Tuple` can be elided when using `()` brackets:"
            ]
        },
        {
            "cell_type": "code",
            "execution_count": 3,
            "metadata": {},
            "outputs": [],
            "source": [
                "let t = (1, 2, 3)\n",
                "let t = Tuple(1, 2, 3)"
            ]
        },
        {
            "attachments": {},
            "cell_type": "markdown",
            "metadata": {},
            "source": [
                "You can also use different types inside the tuple, and can be implicit or explicit with the types:"
            ]
        },
        {
            "cell_type": "code",
            "execution_count": 8,
            "metadata": {},
            "outputs": [],
            "source": [
                "let u = (\"string\", 5.0, 2)\n",
                "let v: Tuple[StringLiteral, FloatLiteral, Int] = (\"string\", 5.0, 2)"
            ]
        },
        {
            "attachments": {},
            "cell_type": "markdown",
            "metadata": {},
            "source": [
                "## length\n",
                "\n",
                "Number of elements in the tuple."
            ]
        },
        {
            "cell_type": "code",
            "execution_count": 4,
            "metadata": {},
            "outputs": [
                {
                    "name": "stdout",
                    "output_type": "stream",
                    "text": [
                        "Length of the tuple: 3\n"
                    ]
                }
            ],
            "source": [
                "print(\"Length of the tuple:\", len(t))"
            ]
        },
        {
            "attachments": {},
            "cell_type": "markdown",
            "metadata": {},
            "source": [
                "## get\n",
                "\n",
                "Get a specific element in the tuple."
            ]
        },
        {
            "cell_type": "code",
            "execution_count": 6,
            "metadata": {},
            "outputs": [
                {
                    "name": "stdout",
                    "output_type": "stream",
                    "text": [
                        "5.0\n"
                    ]
                }
            ],
            "source": [
                "print(u.get[1, FloatLiteral]())"
            ]
        },
        {
            "attachments": {},
            "cell_type": "markdown",
            "metadata": {
                "vscode": {
                    "languageId": "plaintext"
                }
            },
            "source": [
                "## limitations\n",
                "You can't get items from a tuple if it's not [@register_passable](/guides/decorators/register_passable.md):"
            ]
        },
        {
            "cell_type": "code",
            "execution_count": 2,
            "metadata": {},
            "outputs": [
                {
                    "name": "stderr",
                    "output_type": "stream",
                    "text": [
                        "error: \u001b[0;1;31m\u001b[1mExpression [2]:23:28: \u001b[0m\u001b[1minvalid call to 'get': result cannot bind generic !mlirtype to memory-only type 'Coord'\n",
                        "\u001b[0m    let y = x.get[0, Coord]()\n",
                        "\u001b[0;1;32m            ~~~~~~~~~~~~~~~^~\n",
                        "\u001b[0m\u001b[0m\n",
                        "\u001b[0;1;30m\u001b[1m/.modular/Kernels/mojo/Builtin/Tuple.mojo:58:5: \u001b[0m\u001b[1mfunction declared here\n",
                        "\u001b[0m    fn get[i: Int, T: AnyType](self) -> T:\n",
                        "\u001b[0;1;32m    ^\n",
                        "\u001b[0m\u001b[0m\n"
                    ]
                }
            ],
            "source": [
                "@value\n",
                "struct Coord:\n",
                "    var x: Int\n",
                "    var y: Int\n",
                "\n",
                "var x = (Coord(5, 10), 5.5)\n",
                "\n",
                "let y = x.get[0, Coord]()\n",
                "print(y.data[0].x)"
            ]
        },
        {
            "attachments": {},
            "cell_type": "markdown",
            "metadata": {},
            "source": [
                "To remedy this you can mark it as [@register_passable](/guides/decorators/register_passable.md), but it must contain all register passable types:"
            ]
        },
        {
            "cell_type": "code",
            "execution_count": 8,
            "metadata": {},
            "outputs": [
                {
                    "name": "stdout",
                    "output_type": "stream",
                    "text": [
                        "5\n"
                    ]
                }
            ],
            "source": [
                "@value\n",
                "@register_passable\n",
                "struct Coord:\n",
                "    var x: Int\n",
                "    var y: Int\n",
                "\n",
                "var x = (Coord(5, 10), 5.5)\n",
                "\n",
                "print(x.get[0, Coord]().x)"
            ]
        },
        {
            "attachments": {},
            "cell_type": "markdown",
            "metadata": {},
            "source": [
                "So items like a `String` won't work."
            ]
        },
        {
            "attachments": {},
            "cell_type": "markdown",
            "metadata": {},
            "source": [
                "<CommentService />"
            ]
        }
    ],
    "metadata": {
        "kernelspec": {
            "display_name": "Mojo",
            "language": "mojo",
            "name": "mojo-jupyter-kernel"
        },
        "language_info": {
            "codemirror_mode": {
                "name": "mojo"
            },
            "file_extension": ".mojo",
            "mimetype": "text/x-mojo",
            "name": "mojo"
        },
        "orig_nbformat": 4
    },
    "nbformat": 4,
    "nbformat_minor": 2
}
