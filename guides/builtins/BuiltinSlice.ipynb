{
 "cells": [
  {
   "attachments": {},
   "cell_type": "markdown",
   "metadata": {},
   "source": [
    "---\n",
    "title: BuiltinSlice\n",
    "categories: Builtins\n",
    "usage: Implements slice.\n",
    "---"
   ]
  },
  {
   "attachments": {},
   "cell_type": "markdown",
   "metadata": {},
   "source": [
    "Contributed by [Lorenzobattistela](https://github.com/Lorenzobattistela)\n",
    "\n",
    "# slice\n",
    "\n",
    "Represents a slice expression.\n",
    "Objects of this type are generated when slice syntax `[a:b:c]` is used."
   ]
  },
  {
   "attachments": {},
   "cell_type": "markdown",
   "metadata": {},
   "source": [
    "## init\n",
    "\n",
    "We can initialize slices by specifying where it should stop. If we don't specify a start, it will default to 0. If we don't specify a step, it will default to 1. The step is the number of elements to skip between each element."
   ]
  },
  {
   "cell_type": "code",
   "execution_count": 1,
   "metadata": {},
   "outputs": [
    {
     "name": "stdout",
     "output_type": "stream",
     "text": [
      "slice\n",
      " it!\n",
      "lc\n"
     ]
    }
   ],
   "source": [
    "from String import String\n",
    "\n",
    "var x = String(\"slice it!\")\n",
    "var a : slice = slice(5)\n",
    "var b : slice = slice(5, 9)\n",
    "var c : slice = slice(1, 4, 2)\n",
    "\n",
    "print(x[a])\n",
    "print(x[b])\n",
    "print(x[c])"
   ]
  }
 ],
 "metadata": {
  "kernelspec": {
   "display_name": "Mojo",
   "language": "mojo",
   "name": "mojo-jupyter-kernel"
  },
  "language_info": {
   "codemirror_mode": {
    "name": "mojo"
   },
   "file_extension": ".mojo",
   "mimetype": "text/x-mojo",
   "name": "mojo"
  },
  "orig_nbformat": 4
 },
 "nbformat": 4,
 "nbformat_minor": 2
}
