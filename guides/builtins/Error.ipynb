{
 "cells": [
  {
   "cell_type": "markdown",
   "metadata": {},
   "source": [
    "---\n",
    "title: Error\n",
    "categories: Builtins\n",
    "usage: Implements the Error class.\n",
    "---"
   ]
  },
  {
   "cell_type": "markdown",
   "metadata": {},
   "source": [
    "Contributed by [Lorenzobattistela](https://github.com/Lorenzobattistela)\n",
    "\n",
    "# Error\n",
    "\n",
    "The Error class is used to handle errors in Mojo.\n",
    "\n",
    "## init\n",
    "\n",
    "We are able to initialize empty errors, with custom messages and even with string references.\n"
   ]
  },
  {
   "cell_type": "code",
   "execution_count": 3,
   "metadata": {
    "vscode": {
     "languageId": "plaintext"
    }
   },
   "outputs": [
    {
     "name": "stderr",
     "output_type": "stream",
     "text": [
      "warning: \u001b[0;1;35m\u001b[1mExpression [3]:22:5: \u001b[0m\u001b[1munreachable code after raise statement\n",
      "\u001b[0m    return\n",
      "\u001b[0;1;32m    ^\n",
      "\u001b[0m\u001b[0m\n"
     ]
    },
    {
     "name": "stdout",
     "output_type": "stream",
     "text": [
      "Error: \n"
     ]
    }
   ],
   "source": [
    "var err : Error = Error()\n",
    "raise err"
   ]
  },
  {
   "cell_type": "code",
   "execution_count": 4,
   "metadata": {
    "vscode": {
     "languageId": "plaintext"
    }
   },
   "outputs": [
    {
     "name": "stderr",
     "output_type": "stream",
     "text": [
      "warning: \u001b[0;1;35m\u001b[1mExpression [4]:22:5: \u001b[0m\u001b[1munreachable code after raise statement\n",
      "\u001b[0m    return\n",
      "\u001b[0;1;32m    ^\n",
      "\u001b[0m\u001b[0m\n"
     ]
    },
    {
     "name": "stdout",
     "output_type": "stream",
     "text": [
      "Error: my custom error\n"
     ]
    }
   ],
   "source": [
    "var custom_err : Error = Error(\"my custom error\")\n",
    "raise custom_err"
   ]
  },
  {
   "cell_type": "code",
   "execution_count": 7,
   "metadata": {
    "vscode": {
     "languageId": "plaintext"
    }
   },
   "outputs": [
    {
     "name": "stderr",
     "output_type": "stream",
     "text": [
      "warning: \u001b[0;1;35m\u001b[1mExpression [7]:24:5: \u001b[0m\u001b[1munreachable code after raise statement\n",
      "\u001b[0m    return\n",
      "\u001b[0;1;32m    ^\n",
      "\u001b[0m\u001b[0m\n"
     ]
    },
    {
     "name": "stdout",
     "output_type": "stream",
     "text": [
      "Error: hello\n"
     ]
    }
   ],
   "source": [
    "var ref : StringRef = StringRef(\"hello\")\n",
    "var err : Error = Error(ref)\n",
    "\n",
    "raise err"
   ]
  },
  {
   "cell_type": "markdown",
   "metadata": {},
   "source": [
    "## fields\n",
    "\n",
    "- `value`: The error message."
   ]
  },
  {
   "cell_type": "code",
   "execution_count": 5,
   "metadata": {
    "vscode": {
     "languageId": "plaintext"
    }
   },
   "outputs": [
    {
     "name": "stdout",
     "output_type": "stream",
     "text": [
      "something is wrong\n"
     ]
    }
   ],
   "source": [
    "var err : Error = Error(\"something is wrong\")\n",
    "print(err.value)"
   ]
  },
  {
   "cell_type": "markdown",
   "metadata": {},
   "source": [
    "## copyinit\n",
    "\n",
    "Allows error to be copied."
   ]
  },
  {
   "cell_type": "code",
   "execution_count": 8,
   "metadata": {
    "vscode": {
     "languageId": "plaintext"
    }
   },
   "outputs": [
    {
     "name": "stderr",
     "output_type": "stream",
     "text": [
      "warning: \u001b[0;1;35m\u001b[1mExpression [8]:25:5: \u001b[0m\u001b[1munreachable code after raise statement\n",
      "\u001b[0m    return\n",
      "\u001b[0;1;32m    ^\n",
      "\u001b[0m\u001b[0m\n"
     ]
    },
    {
     "name": "stdout",
     "output_type": "stream",
     "text": [
      "Error: hey\n"
     ]
    }
   ],
   "source": [
    "var err : Error = Error(\"hey\")\n",
    "var other : Error = err\n",
    "\n",
    "raise other"
   ]
  }
 ],
 "metadata": {
  "kernelspec": {
   "display_name": "Mojo",
   "language": "mojo",
   "name": "mojo-jupyter-kernel"
  },
  "language_info": {
   "codemirror_mode": {
    "name": "mojo"
   },
   "file_extension": ".mojo",
   "mimetype": "text/x-mojo",
   "name": "mojo"
  },
  "orig_nbformat": 4
 },
 "nbformat": 4,
 "nbformat_minor": 2
}
