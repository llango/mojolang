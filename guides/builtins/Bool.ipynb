{
    "cells": [
        {
            "attachments": {},
            "cell_type": "markdown",
            "metadata": {
                "collapsed": false
            },
            "source": [
                "---\n",
                "title: Bool\n",
                "categories: Builtins\n",
                "usage: The primitive Bool scalar value used in Mojo\n",
                "---\n",
                "\n",
                "Contributed by [StitchyPie](https://github.com/StitchyPie)\n",
                "\n",
                "# Bool\n",
                "The primitive Bool scalar value used in Mojo."
            ]
        },
        {
            "attachments": {},
            "cell_type": "markdown",
            "metadata": {
                "collapsed": false
            },
            "source": [
                "## init"
            ]
        },
        {
            "cell_type": "code",
            "execution_count": 41,
            "metadata": {
                "collapsed": false
            },
            "outputs": [
                {
                    "name": "stdout",
                    "output_type": "stream",
                    "text": [
                        "True\n",
                        "False\n"
                    ]
                }
            ],
            "source": [
                "var x = True\n",
                "print(x)\n",
                "\n",
                "var y: Bool = False\n",
                "print(y)"
            ]
        },
        {
            "attachments": {},
            "cell_type": "markdown",
            "metadata": {
                "collapsed": false
            },
            "source": [
                "## fields\n",
                "`Bool` stores it's data in the member variable `value`:"
            ]
        },
        {
            "cell_type": "code",
            "execution_count": 42,
            "metadata": {
                "collapsed": false
            },
            "outputs": [
                {
                    "name": "stdout",
                    "output_type": "stream",
                    "text": [
                        "True\n"
                    ]
                }
            ],
            "source": [
                "print(my_bool.value)"
            ]
        },
        {
            "attachments": {},
            "cell_type": "markdown",
            "metadata": {},
            "source": [
                "## invert\n",
                "Flips from `True` to `False` or vice-versa"
            ]
        },
        {
            "cell_type": "code",
            "execution_count": 43,
            "metadata": {},
            "outputs": [
                {
                    "name": "stdout",
                    "output_type": "stream",
                    "text": [
                        "False\n",
                        "True\n"
                    ]
                }
            ],
            "source": [
                "print(True.__invert__())\n",
                "print(~False)"
            ]
        },
        {
            "attachments": {},
            "cell_type": "markdown",
            "metadata": {},
            "source": [
                "## equal"
            ]
        },
        {
            "cell_type": "code",
            "execution_count": 44,
            "metadata": {},
            "outputs": [
                {
                    "name": "stdout",
                    "output_type": "stream",
                    "text": [
                        "True\n",
                        "False\n"
                    ]
                }
            ],
            "source": [
                "print(True.__eq__(True))\n",
                "print(True == False)"
            ]
        },
        {
            "attachments": {},
            "cell_type": "markdown",
            "metadata": {},
            "source": [
                "## not equal"
            ]
        },
        {
            "cell_type": "code",
            "execution_count": 45,
            "metadata": {},
            "outputs": [
                {
                    "name": "stdout",
                    "output_type": "stream",
                    "text": [
                        "False\n",
                        "True\n"
                    ]
                }
            ],
            "source": [
                "print(True.__ne__(True))\n",
                "print(True != False)"
            ]
        },
        {
            "attachments": {},
            "cell_type": "markdown",
            "metadata": {},
            "source": [
                "## and\n",
                "True if both values are True"
            ]
        },
        {
            "cell_type": "code",
            "execution_count": 46,
            "metadata": {},
            "outputs": [
                {
                    "name": "stdout",
                    "output_type": "stream",
                    "text": [
                        "True\n",
                        "False\n"
                    ]
                }
            ],
            "source": [
                "print(True.__and__(True))\n",
                "print(True & False)"
            ]
        },
        {
            "attachments": {},
            "cell_type": "markdown",
            "metadata": {},
            "source": [
                "## or\n",
                "True if any value is True"
            ]
        },
        {
            "cell_type": "code",
            "execution_count": 47,
            "metadata": {},
            "outputs": [
                {
                    "name": "stdout",
                    "output_type": "stream",
                    "text": [
                        "True\n",
                        "False\n"
                    ]
                }
            ],
            "source": [
                "print(True.__or__(False))\n",
                "print(False or False)"
            ]
        },
        {
            "attachments": {},
            "cell_type": "markdown",
            "metadata": {},
            "source": [
                "## xor\n",
                "Exclusive or, outputs true if exactly one of two inputs is true"
            ]
        },
        {
            "cell_type": "code",
            "execution_count": 48,
            "metadata": {},
            "outputs": [
                {
                    "name": "stdout",
                    "output_type": "stream",
                    "text": [
                        "False\n",
                        "True\n",
                        "True\n",
                        "False\n"
                    ]
                }
            ],
            "source": [
                "print(True.__xor__(True))\n",
                "print(True ^ False)\n",
                "print(False ^ True)\n",
                "print(False ^ False)"
            ]
        },
        {
            "attachments": {},
            "cell_type": "markdown",
            "metadata": {},
            "source": [
                "## ror, rand and rxor"
            ]
        },
        {
            "attachments": {},
            "cell_type": "markdown",
            "metadata": {
                "collapsed": false
            },
            "source": [
                "Think of the `r` as reversed, for example in `a & b`, if `a` doesn't implement `__and__`, then `b.__rand__(a)` will run instead.\n",
                "\n",
                "For example create a struct `MyNumber` and implement `__rand__` with a `Bool`:"
            ]
        },
        {
            "cell_type": "code",
            "execution_count": 35,
            "metadata": {
                "collapsed": false
            },
            "outputs": [],
            "source": [
                "struct MyNumber:\n",
                "    var value: FloatLiteral\n",
                "    fn __init__(inout self, num: FloatLiteral):\n",
                "        self.value = num\n",
                "\n",
                "    fn __rand__(self, other: Bool) -> Bool:\n",
                "        print(\"Called MyNumber's __rand__ function\")\n",
                "        if self.value > 0.0 and other:\n",
                "            return True\n",
                "        return False"
            ]
        },
        {
            "attachments": {},
            "cell_type": "markdown",
            "metadata": {},
            "source": [
                "You normally can't compare a `Bool` with a `FloatLiteral`, but now we implemented `__rand__` we can:"
            ]
        },
        {
            "cell_type": "code",
            "execution_count": 39,
            "metadata": {
                "collapsed": false
            },
            "outputs": [
                {
                    "name": "stdout",
                    "output_type": "stream",
                    "text": [
                        "Called MyNumber's __rand__ function\n",
                        "True\n"
                    ]
                }
            ],
            "source": [
                "let my_number = MyNumber(1.0)\n",
                "print(True & my_number)"
            ]
        },
        {
            "attachments": {},
            "cell_type": "markdown",
            "metadata": {},
            "source": [
                "`True.__and__(my_number)` has no implementation, so it reverses it and runs `my_number.__rand__(True)` instead, with the special logic we implemented."
            ]
        },
        {
            "attachments": {},
            "cell_type": "markdown",
            "metadata": {},
            "source": [
                "<CommentService />"
            ]
        }
    ],
    "metadata": {
        "kernelspec": {
            "display_name": "Mojo",
            "language": "mojo",
            "name": "mojo-jupyter-kernel"
        },
        "language_info": {
            "codemirror_mode": {
                "name": "mojo"
            },
            "file_extension": ".mojo",
            "mimetype": "text/x-mojo",
            "name": "mojo"
        }
    },
    "nbformat": 4,
    "nbformat_minor": 0
}
