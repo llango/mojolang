{
 "cells": [
  {
   "attachments": {},
   "cell_type": "markdown",
   "metadata": {},
   "source": [
    "---\n",
    "title: \"Setup\"\n",
    "categories: \"01: Setup\"\n",
    "usage: \"Introduction and how to use the Mojo playground\"\n",
    "head:\n",
    "  - [meta, { name: twitter:card , content: summary }]\n",
    "  - [meta, { name: twitter:site , content: \"@mojodojodev\" }]\n",
    "  - [meta, { name: twitter:title , content: \"Intro to Mojo: Setup\" }]\n",
    "  - [meta, { name: twitter:description , content: \"Introduction and how to use the Mojo playground\" }]\n",
    "  - [meta, { name: twitter:image , content: \"https://mojodojo.dev/hero.png\" }]\n",
    "---\n",
    "\n",
    "# Intro to Mojo\n",
    "_This guide is in the early stages, feedback welcomed [on Github](https://github.com/mojodojodev/mojodojo.dev/discussions/categories/feedback)_\n",
    "\n",
    "This guide assumes some familiarity with a programming language like Python, but does not assume knowledge about Computer Science (CS). Anything that explains a `CS Fundamental` will be in a green box so you can skip over them if you already come from a systems programming background:\n",
    "\n",
    "::: tip CS Fundamentals\n",
    "This is related to a Computer Science topic that you'll need to be familiar with to understand how Mojo works at a deeper level.\n",
    ":::\n",
    "\n",
    "While it aims to be a stepping stone from Python to Mojo, unique Python concepts will be explained along the way, so programmers from all backgrounds can use this to learn Mojo.\n",
    "\n",
    "## Setup \n",
    "- Go to the official Modular [Get Started](https://www.modular.com/get-started) form\n",
    "- Fill out the form, tick Mojo and press submit\n",
    "- In a few days you'll get an email with a button `Access the Mojo Playground`\n",
    "- If you want to access the playground from VS Code [follow this guide](/guides/general/mojo_playground_vscode.md)\n",
    "- You can download these notebooks to run them locally [via Github](https://github.com/mojodojodev/mojodojo.dev/tree/main/guides/intro-to-mojo) \n",
    "\n",
    "## Links\n",
    "- Join [the Modular Discord](https://discord.gg/modular)\n",
    "- Check out the the official [Mojo Github repo](https://github.com/modularml/mojo) to see discussions, issues and proposals\n",
    "- [Read the Docs](https://docs.modular.com/mojo/) for all the official Mojo documentation\n"
   ]
  },
  {
   "attachments": {},
   "cell_type": "markdown",
   "metadata": {},
   "source": [
    "<CommentService />"
   ]
  }
 ],
 "metadata": {
  "kernelspec": {
   "display_name": "Mojo",
   "language": "mojo",
   "name": "mojo-jupyter-kernel"
  },
  "language_info": {
   "codemirror_mode": {
    "name": "mojo"
   },
   "file_extension": ".mojo",
   "mimetype": "text/x-mojo",
   "name": "mojo"
  },
  "orig_nbformat": 4
 },
 "nbformat": 4,
 "nbformat_minor": 2
}
