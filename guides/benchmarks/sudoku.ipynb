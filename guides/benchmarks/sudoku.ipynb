{
 "cells": [
  {
   "attachments": {},
   "cell_type": "markdown",
   "metadata": {},
   "source": [
    "---\n",
    "usage: Solving a Sudoku game as fast as possible\n",
    "---\n",
    "\n",
    "# Sudoku Solver\n",
    "Speed Increase: 55x"
   ]
  },
  {
   "cell_type": "code",
   "execution_count": 1,
   "metadata": {},
   "outputs": [
    {
     "name": "stdout",
     "output_type": "stream",
     "text": [
      "Solved: True\n",
      "[5, 3, 4, 6, 7, 8, 9, 1, 2]\n",
      "[6, 7, 2, 1, 9, 5, 3, 4, 8]\n",
      "[1, 9, 8, 3, 4, 2, 5, 6, 7]\n",
      "[8, 5, 9, 7, 6, 1, 4, 2, 3]\n",
      "[4, 2, 6, 8, 5, 3, 7, 9, 1]\n",
      "[7, 1, 3, 9, 2, 4, 8, 5, 6]\n",
      "[9, 6, 1, 5, 3, 7, 2, 8, 4]\n",
      "[2, 8, 7, 4, 1, 9, 6, 3, 5]\n",
      "[3, 4, 5, 2, 8, 6, 1, 7, 9]\n"
     ]
    }
   ],
   "source": [
    "%%python\n",
    "def is_valid(board, row, col, num):\n",
    "    for x in range(9):\n",
    "        if board[row][x] == num:\n",
    "            return False\n",
    "\n",
    "    for x in range(9):\n",
    "        if board[x][col] == num:\n",
    "            return False\n",
    "\n",
    "    start_row = row - row % 3\n",
    "    start_col = col - col % 3\n",
    "    for i in range(3):\n",
    "        for j in range(3):\n",
    "            if board[i+start_row][j+start_col] == num:\n",
    "                return False\n",
    "    return True\n",
    "\n",
    "def solve_sudoku(board):\n",
    "    for i in range(9):\n",
    "        for j in range(9):\n",
    "            if board[i][j] == 0:\n",
    "                for num in range(1, 10):\n",
    "                    if is_valid(board, i, j, num):\n",
    "                        board[i][j] = num\n",
    "                        if solve_sudoku(board):\n",
    "                            return True\n",
    "                        board[i][j] = 0\n",
    "                return False\n",
    "    return True\n",
    "\n",
    "board = [\n",
    "    [5, 3, 0, 0, 7, 0, 0, 0, 0],\n",
    "    [6, 0, 0, 1, 9, 5, 0, 0, 0],\n",
    "    [0, 9, 8, 0, 0, 0, 0, 6, 0],\n",
    "    [8, 0, 0, 0, 6, 0, 0, 0, 3],\n",
    "    [4, 0, 0, 8, 0, 3, 0, 0, 1],\n",
    "    [7, 0, 0, 0, 2, 0, 0, 0, 6],\n",
    "    [0, 6, 0, 0, 0, 0, 2, 8, 0],\n",
    "    [0, 0, 0, 4, 1, 9, 0, 0, 5],\n",
    "    [0, 0, 0, 0, 8, 0, 0, 7, 9]\n",
    "]\n",
    "\n",
    "print(\"Solved:\", solve_sudoku(board))\n",
    "for i in board:\n",
    "    print(i)"
   ]
  },
  {
   "cell_type": "code",
   "execution_count": 11,
   "metadata": {},
   "outputs": [
    {
     "name": "stdout",
     "output_type": "stream",
     "text": [
      "python seconds: 0.020060801063664258\n"
     ]
    }
   ],
   "source": [
    "%%python\n",
    "from timeit import timeit\n",
    "\n",
    "board = [\n",
    "    [5, 3, 0, 0, 7, 0, 0, 0, 0],\n",
    "    [6, 0, 0, 1, 9, 5, 0, 0, 0],\n",
    "    [0, 9, 8, 0, 0, 0, 0, 6, 0],\n",
    "    [8, 0, 0, 0, 6, 0, 0, 0, 3],\n",
    "    [4, 0, 0, 8, 0, 3, 0, 0, 1],\n",
    "    [7, 0, 0, 0, 2, 0, 0, 0, 6],\n",
    "    [0, 6, 0, 0, 0, 0, 2, 8, 0],\n",
    "    [0, 0, 0, 4, 1, 9, 0, 0, 5],\n",
    "    [0, 0, 0, 0, 8, 0, 0, 7, 9]\n",
    "]\n",
    "\n",
    "python_secs = timeit(lambda: solve_sudoku(board), number=2)/2\n",
    "print(\"python seconds:\", python_secs)"
   ]
  },
  {
   "cell_type": "code",
   "execution_count": 3,
   "metadata": {},
   "outputs": [
    {
     "name": "stdout",
     "output_type": "stream",
     "text": [
      "Solved: True\n",
      "[5, 3, 4, 6, 7, 8, 9, 1, 2]\n",
      "[6, 7, 2, 1, 9, 5, 3, 4, 8]\n",
      "[1, 9, 8, 3, 4, 2, 5, 6, 7]\n",
      "[8, 5, 9, 7, 6, 1, 4, 2, 3]\n",
      "[4, 2, 6, 8, 5, 3, 7, 9, 1]\n",
      "[7, 1, 3, 9, 2, 4, 8, 5, 6]\n",
      "[9, 6, 1, 5, 3, 7, 2, 8, 4]\n",
      "[2, 8, 7, 4, 1, 9, 6, 3, 5]\n",
      "[3, 4, 5, 2, 8, 6, 1, 7, 9]\n"
     ]
    }
   ],
   "source": [
    "from Pointer import DTypePointer\n",
    "from DType import DType\n",
    "from Buffer import NDBuffer\n",
    "from List import DimList\n",
    "from Random import randint\n",
    "from List import VariadicList\n",
    "from Math import sqrt\n",
    "from Numerics import FPUtils\n",
    "\n",
    "\n",
    "struct Board[grid_size: Int]:\n",
    "    var data: DTypePointer[DType.uint8]\n",
    "    var sub_size: Int\n",
    "    alias elements = grid_size**2\n",
    "\n",
    "    fn __init__(inout self, *values: Int) raises:\n",
    "        let args_list = VariadicList(values)\n",
    "        if len(args_list) != elements:\n",
    "            raise Error(\"The amount of elements must be equal to the grid_size parameter squared\")\n",
    "\n",
    "        let sub_size = sqrt(Float64(grid_size))\n",
    "        if sub_size - sub_size.cast[DType.int64]().cast[DType.float64]() > 0:\n",
    "            raise Error(\"The square root of the grid grid_size must be a whole number 9 = 3, 16 = 4\")\n",
    "        self.sub_size = sub_size.cast[DType.int64]().to_int()\n",
    "\n",
    "\n",
    "        self.data = DTypePointer[DType.uint8].alloc(grid_size**2)\n",
    "        for i in range(len(args_list)):\n",
    "            self.data.simd_store[1](i, args_list[i])\n",
    "\n",
    "    fn __getitem__(self, row: Int, col: Int) -> UInt8:\n",
    "        return self.data.simd_load[1](row * grid_size + col)\n",
    "\n",
    "    fn __setitem__(self, row: Int, col: Int, data: UInt8):\n",
    "        self.data.simd_store[1](row * grid_size + col, data)\n",
    "\n",
    "    fn print_board(inout self):\n",
    "        for i in range(grid_size):\n",
    "            print(self.data.simd_load[grid_size](i * grid_size))\n",
    "\n",
    "    fn is_valid(self, row: Int, col: Int, num: Int) -> Bool:\n",
    "        # Check the given number in the row\n",
    "        for x in range(grid_size):\n",
    "            if self[row, x] == num:\n",
    "                return False\n",
    "\n",
    "        # Check the given number in the col\n",
    "        for x in range(grid_size):\n",
    "            if self[x, col] == num:\n",
    "                return False\n",
    "\n",
    "        # Check the given number in the box\n",
    "        let start_row = row - row % self.sub_size\n",
    "        let start_col = col - col % self.sub_size\n",
    "        for i in range(self.sub_size):\n",
    "            for j in range(self.sub_size):\n",
    "                if self[i+start_row, j+start_col] == num:\n",
    "                    return False\n",
    "        return True\n",
    "\n",
    "    fn solve(self) -> Bool:\n",
    "        for i in range(grid_size):\n",
    "            for j in range(grid_size):\n",
    "                if self[i, j] == 0:\n",
    "                    for num in range(1, 10):\n",
    "                        if self.is_valid(i, j, num):\n",
    "                            self[i, j] = num\n",
    "                            if self.solve():\n",
    "                                return True\n",
    "                            # If this number leads to no solution, then undo it\n",
    "                            self[i, j] = 0\n",
    "                    return False\n",
    "        return True\n",
    "\n",
    "\n",
    "let board = Board[9](\n",
    "    5, 3, 0, 0, 7, 0, 0, 0, 0,\n",
    "    6, 0, 0, 1, 9, 5, 0, 0, 0,\n",
    "    0, 9, 8, 0, 0, 0, 0, 6, 0,\n",
    "    8, 0, 0, 0, 6, 0, 0, 0, 3,\n",
    "    4, 0, 0, 8, 0, 3, 0, 0, 1,\n",
    "    7, 0, 0, 0, 2, 0, 0, 0, 6,\n",
    "    0, 6, 0, 0, 0, 0, 2, 8, 0,\n",
    "    0, 0, 0, 4, 1, 9, 0, 0, 5,\n",
    "    0, 0, 0, 0, 8, 0, 0, 7, 9\n",
    ")\n",
    "\n",
    "print(\"Solved:\", board.solve())\n",
    "board.print_board()"
   ]
  },
  {
   "cell_type": "code",
   "execution_count": 10,
   "metadata": {},
   "outputs": [
    {
     "name": "stdout",
     "output_type": "stream",
     "text": [
      "mojo seconds: 0.00036501099999999999\n",
      "speedup: 55.234368285891797\n"
     ]
    }
   ],
   "source": [
    "from Benchmark import Benchmark\n",
    "alias board_size = 9 \n",
    "fn bench(python_secs: Float64):\n",
    "    @parameter\n",
    "    fn init_board() raises -> Board[board_size]:\n",
    "        return Board[board_size](\n",
    "            5, 3, 0, 0, 7, 0, 0, 0, 0,\n",
    "            6, 0, 0, 1, 9, 5, 0, 0, 0,\n",
    "            0, 9, 8, 0, 0, 0, 0, 6, 0,\n",
    "            8, 0, 0, 0, 6, 0, 0, 0, 3,\n",
    "            4, 0, 0, 8, 0, 3, 0, 0, 1,\n",
    "            7, 0, 0, 0, 2, 0, 0, 0, 6,\n",
    "            0, 6, 0, 0, 0, 0, 2, 8, 0,\n",
    "            0, 0, 0, 4, 1, 9, 0, 0, 5,\n",
    "            0, 0, 0, 0, 8, 0, 0, 7, 9\n",
    "        )\n",
    "\n",
    "    fn solve():\n",
    "        try:\n",
    "            let board = init_board()\n",
    "            _ = board.solve()\n",
    "        except:\n",
    "            pass\n",
    "\n",
    "    let mojo_secs = Benchmark().run[solve]() / 1e9\n",
    "    print(\"mojo seconds:\", mojo_secs)\n",
    "    print(\"speedup:\", python_secs / mojo_secs)\n",
    "\n",
    "bench(python_secs.to_float64())"
   ]
  },
  {
   "attachments": {},
   "cell_type": "markdown",
   "metadata": {},
   "source": [
    "<CommentService />"
   ]
  }
 ],
 "metadata": {
  "kernelspec": {
   "display_name": "Mojo",
   "language": "mojo",
   "name": "mojo-jupyter-kernel"
  },
  "language_info": {
   "codemirror_mode": {
    "name": "mojo"
   },
   "file_extension": ".mojo",
   "mimetype": "text/x-mojo",
   "name": "mojo"
  },
  "orig_nbformat": 4
 },
 "nbformat": 4,
 "nbformat_minor": 2
}
