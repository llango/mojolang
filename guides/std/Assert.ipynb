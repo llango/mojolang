{
    "cells": [
        {
            "attachments": {},
            "cell_type": "markdown",
            "metadata": {},
            "source": [
                "---\n",
                "title: Assert\n",
                "categories: Assert\n",
                "usage: Place constraints on functions that are checked at compile time, and check conditions only in debug builds\n",
                "---\n",
                "# Assert\n",
                "## assert_param\n",
                "Asserts that the condition is true in the `parameter / comptime` domain, used to place constraints on functions"
            ]
        },
        {
            "cell_type": "code",
            "execution_count": 1,
            "metadata": {},
            "outputs": [],
            "source": [
                "from Assert import assert_param"
            ]
        },
        {
            "attachments": {},
            "cell_type": "markdown",
            "metadata": {},
            "source": [
                "We can put compile time assertions in the ensure that the two numbers passed in are positive"
            ]
        },
        {
            "cell_type": "code",
            "execution_count": 2,
            "metadata": {},
            "outputs": [],
            "source": [
                "fn add_positives[x: Int, y: Int]() -> UInt8:\n",
                "    assert_param[x > 0]()\n",
                "    assert_param[y > 0]()\n",
                "    return x + y"
            ]
        },
        {
            "attachments": {},
            "cell_type": "markdown",
            "metadata": {},
            "source": [
                "Let's get the result that's calculated at compile time"
            ]
        },
        {
            "cell_type": "code",
            "execution_count": 3,
            "metadata": {},
            "outputs": [
                {
                    "name": "stdout",
                    "output_type": "stream",
                    "text": [
                        "6\n"
                    ]
                }
            ],
            "source": [
                "let res = add_positives[2, 4]()\n",
                "print(res)"
            ]
        },
        {
            "attachments": {},
            "cell_type": "markdown",
            "metadata": {},
            "source": [
                "Now we'll introduce the error so you can see how it looks, it will always be at the end of the error message:"
            ]
        },
        {
            "cell_type": "code",
            "execution_count": 4,
            "metadata": {},
            "outputs": [
                {
                    "name": "stderr",
                    "output_type": "stream",
                    "text": [
                        "\u001b[0;1;30m\u001b[1mExpression [2]:6:24: \u001b[0m\u001b[1m              constraint failed: param assertion failed\n",
                        "\u001b[0m    assert_param[x > 0]()\n",
                        "\u001b[0;1;32m                       ^\n",
                        "\u001b[0m\u001b[0m\n",
                        "expression failed to parse (no further compiler diagnostics)"
                    ]
                }
            ],
            "source": [
                "add_positives[-2, 4]()"
            ]
        },
        {
            "attachments": {},
            "cell_type": "markdown",
            "metadata": {},
            "source": [
                "You can also add a message to change the compiler error output:"
            ]
        },
        {
            "cell_type": "code",
            "execution_count": 5,
            "metadata": {},
            "outputs": [
                {
                    "name": "stderr",
                    "output_type": "stream",
                    "text": [
                        "\u001b[0;1;30m\u001b[1mExpression [5]:6:73: \u001b[0m\u001b[1m              constraint failed: x is not positve, use a positve number over 0\n",
                        "\u001b[0m    assert_param[x > 0, \"x is not positve, use a positve number over 0\"]()\n",
                        "\u001b[0;1;32m                                                                        ^\n",
                        "\u001b[0m\u001b[0m\n",
                        "expression failed to parse (no further compiler diagnostics)"
                    ]
                }
            ],
            "source": [
                "fn add_positives[x: Int, y: Int]() -> UInt8:\n",
                "    assert_param[x > 0, \"x is not positve, use a positve number over 0\"]()\n",
                "    assert_param[y > 0, \"y is not positve, use a positve number over 0\"]()\n",
                "    return x + y\n",
                "\n",
                "let res = add_positives[-2, -4]()\n",
                "print(res)"
            ]
        },
        {
            "attachments": {},
            "cell_type": "markdown",
            "metadata": {},
            "source": [
                "## debug_assert\n",
                "Asserts that the condition is true in debug builds, and is removed from the compilation process in release builds"
            ]
        },
        {
            "cell_type": "code",
            "execution_count": 6,
            "metadata": {},
            "outputs": [],
            "source": [
                "from Assert import debug_assert\n",
                "\n",
                "fn test_debug_assert[x: Int](y: Int):\n",
                "    debug_assert(x == 42, \"x is not equal to 42\")\n",
                "    debug_assert(y == 42, \"y is not equal to 42\")\n",
                "\n",
                "\n",
                "test_debug_assert[1](2)"
            ]
        },
        {
            "attachments": {},
            "cell_type": "markdown",
            "metadata": {},
            "source": [
                "debug_assert doesn't work in the playground because it's not a debug build."
            ]
        },
        {
            "attachments": {},
            "cell_type": "markdown",
            "metadata": {},
            "source": [
                "<CommentService />"
            ]
        }
    ],
    "metadata": {
        "kernelspec": {
            "display_name": "Mojo",
            "language": "mojo",
            "name": "mojo-jupyter-kernel"
        },
        "language_info": {
            "codemirror_mode": {
                "name": "mojo"
            },
            "file_extension": ".mojo",
            "mimetype": "text/x-mojo",
            "name": "mojo"
        },
        "orig_nbformat": 4
    },
    "nbformat": 4,
    "nbformat_minor": 2
}
