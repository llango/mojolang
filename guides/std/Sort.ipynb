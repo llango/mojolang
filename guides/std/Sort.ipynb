{
    "cells": [
        {
            "attachments": {},
            "cell_type": "markdown",
            "metadata": {},
            "source": [
                "---\n",
                "title: Sort\n",
                "categories: Sort\n",
                "usage: \"Sorts a DynamicVector[Int] inplace, in ascending order\"\n",
                "---\n",
                "Contributed by [gautam](https://github.com/gautam-e)\n",
                "\n",
                "# sort\n",
                "\n",
                "Sorts a `DynamicVector[Int]` inplace, in ascending order"
            ]
        },
        {
            "cell_type": "code",
            "execution_count": 1,
            "metadata": {},
            "outputs": [
                {
                    "name": "stdout",
                    "output_type": "stream",
                    "text": [
                        "10\n",
                        "20\n",
                        "70\n"
                    ]
                }
            ],
            "source": [
                "from Sort import sort\n",
                "from Vector import DynamicVector\n",
                "\n",
                "let v = DynamicVector[Int](3)\n",
                "\n",
                "v.push_back(20)\n",
                "v.push_back(10)\n",
                "v.push_back(70)\n",
                "\n",
                "sort(v)\n",
                "\n",
                "for i in range(v.size):\n",
                "    print(v[i])"
            ]
        },
        {
            "attachments": {},
            "cell_type": "markdown",
            "metadata": {},
            "source": [
                "<CommentService />"
            ]
        }
    ],
    "metadata": {
        "kernelspec": {
            "display_name": "Mojo",
            "language": "mojo",
            "name": "mojo-jupyter-kernel"
        },
        "language_info": {
            "codemirror_mode": {
                "name": "mojo"
            },
            "file_extension": ".mojo",
            "mimetype": "text/x-mojo",
            "name": "mojo"
        },
        "orig_nbformat": 4
    },
    "nbformat": 4,
    "nbformat_minor": 2
}
