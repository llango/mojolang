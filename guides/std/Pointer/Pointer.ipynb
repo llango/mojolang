{
    "cells": [
        {
            "attachments": {},
            "cell_type": "markdown",
            "metadata": {},
            "source": [
                "---\n",
                "title: Pointer\n",
                "categories: |\n",
                "  Pointer\n",
                "usage: |\n",
                "  Store an address to any type, allowing you to allocate, load and modify single instances or arrays of the type on the heap\n",
                "---\n",
                "# Pointer\n",
                "  Store an address to any type, allowing you to allocate, load and modify single instances or arrays of the type on the heap"
            ]
        },
        {
            "attachments": {},
            "cell_type": "markdown",
            "metadata": {},
            "source": [
                "## Import"
            ]
        },
        {
            "cell_type": "code",
            "execution_count": 1,
            "metadata": {},
            "outputs": [],
            "source": [
                "from Pointer import Pointer\n",
                "\n",
                "from Memory import memset_zero\n",
                "from String import String"
            ]
        },
        {
            "attachments": {},
            "cell_type": "markdown",
            "metadata": {},
            "source": [
                "## Initialization\n",
                "Create a struct and use that as the type for the pointer"
            ]
        },
        {
            "cell_type": "code",
            "execution_count": 2,
            "metadata": {},
            "outputs": [],
            "source": [
                "struct Coord:\n",
                "    var x: UInt8 \n",
                "    var y: UInt8"
            ]
        },
        {
            "cell_type": "code",
            "execution_count": 3,
            "metadata": {},
            "outputs": [],
            "source": [
                "var p1 = Pointer[Coord].alloc(2)\n",
                "var p2 = Pointer[Coord].alloc(2)"
            ]
        },
        {
            "attachments": {},
            "cell_type": "markdown",
            "metadata": {},
            "source": [
                "All the values will be garbage, we need to manually zero them if there is a chance we might read the value before writing it, otherwise it'll be undefined behaviour (UB):"
            ]
        },
        {
            "cell_type": "code",
            "execution_count": 4,
            "metadata": {},
            "outputs": [],
            "source": [
                "memset_zero(p1, 2)\n",
                "memset_zero(p2, 2)"
            ]
        },
        {
            "attachments": {},
            "cell_type": "markdown",
            "metadata": {},
            "source": [
                "## Operators\n",
                "Perform operations with the two pointers"
            ]
        },
        {
            "cell_type": "code",
            "execution_count": 5,
            "metadata": {},
            "outputs": [
                {
                    "name": "stdout",
                    "output_type": "stream",
                    "text": [
                        "p1 is not null\n",
                        "p1 and p2 are equal: False\n",
                        "p1 and p2 are not equal: True\n"
                    ]
                }
            ],
            "source": [
                "if p1:\n",
                "    print(\"p1 is not null\")\n",
                "print(\"p1 and p2 are equal:\", p1 == p2)\n",
                "print(\"p1 and p2 are not equal:\", p1 != p2)"
            ]
        },
        {
            "attachments": {},
            "cell_type": "markdown",
            "metadata": {},
            "source": [
                "## Register Passable"
            ]
        },
        {
            "attachments": {},
            "cell_type": "markdown",
            "metadata": {},
            "source": [
                "Let's try printing the zeroed value from the first point:"
            ]
        },
        {
            "cell_type": "code",
            "execution_count": 6,
            "metadata": {},
            "outputs": [
                {
                    "name": "stderr",
                    "output_type": "stream",
                    "text": [
                        "error: \u001b[0;1;31m\u001b[1mExpression [6]:17:19: \u001b[0m\u001b[1minvalid call to '__getitem__': result cannot bind generic !mlirtype to memory-only type 'Coord'\n",
                        "\u001b[0m    let coord = p1[0]\n",
                        "\u001b[0;1;32m                ~~^~~\n",
                        "\u001b[0m\u001b[0m\n",
                        "\u001b[0;1;30m\u001b[1m/.modular/Kernels/mojo/Stdlib/Pointer.mojo:118:5: \u001b[0m\u001b[1mfunction declared here\n",
                        "\u001b[0m    fn __getitem__(self, offset: Int) -> type:\n",
                        "\u001b[0;1;32m    ^\n",
                        "\u001b[0m\u001b[0m\n"
                    ]
                }
            ],
            "source": [
                "let coord = p1[0]\n",
                "print(coord.x)"
            ]
        },
        {
            "attachments": {},
            "cell_type": "markdown",
            "metadata": {},
            "source": [
                "Take note of the above error, a `memory-only` type means it can't be passed through registers, we need that behavior to use the `[x]` syntax on a Pointer. Lets redefine it with `@register_passable` annotated: "
            ]
        },
        {
            "cell_type": "code",
            "execution_count": 7,
            "metadata": {},
            "outputs": [],
            "source": [
                "@register_passable\n",
                "struct Coord:\n",
                "    var x: UInt8 \n",
                "    var y: UInt8"
            ]
        },
        {
            "attachments": {},
            "cell_type": "markdown",
            "metadata": {},
            "source": [
                "Now we'll be able to use Python syntax to access objects of type `Coord`:"
            ]
        },
        {
            "cell_type": "code",
            "execution_count": 8,
            "metadata": {},
            "outputs": [
                {
                    "name": "stdout",
                    "output_type": "stream",
                    "text": [
                        "0\n"
                    ]
                }
            ],
            "source": [
                "var p1 = Pointer[Coord].alloc(2)\n",
                "memset_zero(p1, 2)\n",
                "\n",
                "var coord = p1[0]\n",
                "print(coord.x)"
            ]
        },
        {
            "attachments": {},
            "cell_type": "markdown",
            "metadata": {},
            "source": [
                "## Storing Values"
            ]
        },
        {
            "attachments": {},
            "cell_type": "markdown",
            "metadata": {},
            "source": [
                "Let's try setting the values"
            ]
        },
        {
            "cell_type": "code",
            "execution_count": 9,
            "metadata": {},
            "outputs": [
                {
                    "name": "stdout",
                    "output_type": "stream",
                    "text": [
                        "5\n"
                    ]
                }
            ],
            "source": [
                "coord.x = 5\n",
                "coord.y = 5\n",
                "print(coord.x)"
            ]
        },
        {
            "cell_type": "code",
            "execution_count": 10,
            "metadata": {},
            "outputs": [
                {
                    "name": "stdout",
                    "output_type": "stream",
                    "text": [
                        "0\n"
                    ]
                }
            ],
            "source": [
                "print(p1[0].x)"
            ]
        },
        {
            "attachments": {},
            "cell_type": "markdown",
            "metadata": {},
            "source": [
                "Note above that `coord` is an identifier to memory on the stack or in a register, when we try and print `p1[0]` it hasn't been modified. We need to write the data."
            ]
        },
        {
            "cell_type": "code",
            "execution_count": 11,
            "metadata": {},
            "outputs": [
                {
                    "name": "stdout",
                    "output_type": "stream",
                    "text": [
                        "5\n"
                    ]
                }
            ],
            "source": [
                "p1.store(0, coord)\n",
                "print(p1[0].x)"
            ]
        },
        {
            "attachments": {},
            "cell_type": "markdown",
            "metadata": {},
            "source": [
                "Lets add 5 to it and store it at offset 1"
            ]
        },
        {
            "cell_type": "code",
            "execution_count": 12,
            "metadata": {},
            "outputs": [],
            "source": [
                "coord.x += 5\n",
                "coord.y += 5\n",
                "\n",
                "p1.store(1, coord)"
            ]
        },
        {
            "attachments": {},
            "cell_type": "markdown",
            "metadata": {},
            "source": [
                "Now print both the coords:"
            ]
        },
        {
            "cell_type": "code",
            "execution_count": 13,
            "metadata": {},
            "outputs": [
                {
                    "name": "stdout",
                    "output_type": "stream",
                    "text": [
                        "5\n",
                        "5\n",
                        "10\n",
                        "10\n"
                    ]
                }
            ],
            "source": [
                "for i in range(2):\n",
                "    print(p1[i].x)\n",
                "    print(p1[i].y)"
            ]
        },
        {
            "attachments": {},
            "cell_type": "markdown",
            "metadata": {},
            "source": [
                "## Undefined Behaviour"
            ]
        },
        {
            "attachments": {},
            "cell_type": "markdown",
            "metadata": {},
            "source": [
                "Now we'll destroy the universe by going outside the bounds we allocated:"
            ]
        },
        {
            "cell_type": "code",
            "execution_count": 14,
            "metadata": {},
            "outputs": [
                {
                    "name": "stdout",
                    "output_type": "stream",
                    "text": [
                        "179\n",
                        "85\n"
                    ]
                }
            ],
            "source": [
                "let third_coord = p1.load(2)\n",
                "print(third_coord.x)\n",
                "print(third_coord.y)"
            ]
        },
        {
            "attachments": {},
            "cell_type": "markdown",
            "metadata": {},
            "source": [
                "These are garbage values, we've done something very dangerous that will cause undefined behaviour, and allow attackers to access data they shouldn't.\n",
                "\n",
                "Let's keep going down this dangerous path:"
            ]
        },
        {
            "cell_type": "code",
            "execution_count": 15,
            "metadata": {},
            "outputs": [],
            "source": [
                "p1 += 2"
            ]
        },
        {
            "attachments": {},
            "cell_type": "markdown",
            "metadata": {},
            "source": [
                "Now the pointer is pointer is pointing straight to unallocated garbage data! Let's have a look:"
            ]
        },
        {
            "cell_type": "code",
            "execution_count": 16,
            "metadata": {},
            "outputs": [
                {
                    "name": "stdout",
                    "output_type": "stream",
                    "text": [
                        "179\n",
                        "85\n",
                        "0\n",
                        "0\n"
                    ]
                }
            ],
            "source": [
                "for i in range(2):\n",
                "    print(p1[i].x)\n",
                "    print(p1[i].y)"
            ]
        },
        {
            "attachments": {},
            "cell_type": "markdown",
            "metadata": {},
            "source": [
                "Oh no! Let's move back to where we were and free the memory, if we forget to free the memory that'll cause a memory leak if this code runs a lot:"
            ]
        },
        {
            "cell_type": "code",
            "execution_count": 17,
            "metadata": {},
            "outputs": [],
            "source": [
                "p1 -= 2\n",
                "p1.free()"
            ]
        },
        {
            "attachments": {},
            "cell_type": "markdown",
            "metadata": {},
            "source": [
                "## Build your own struct"
            ]
        },
        {
            "attachments": {},
            "cell_type": "markdown",
            "metadata": {},
            "source": [
                "It's easy to make mistakes when playing with pointers, let's create a struct to reduce the surface area of potential errors."
            ]
        },
        {
            "cell_type": "code",
            "execution_count": 18,
            "metadata": {},
            "outputs": [],
            "source": [
                "struct Coords:\n",
                "    var data: Pointer[Coord]\n",
                "    var length: Int\n",
                "\n",
                "    fn __init__(inout self, length: Int) raises:\n",
                "        self.data = Pointer[Coord].alloc(length)\n",
                "        memset_zero(self.data, length)\n",
                "        self.length = length\n",
                "\n",
                "    fn __getitem__(self, index: Int) raises -> Coord:\n",
                "        if index > self.length - 1:\n",
                "            raise Error(\"Trying to access index out of bounds\")\n",
                "        return self.data.load(index)\n",
                "\n",
                "    # This is what will run when the object goes out of scope\n",
                "    fn __del__(owned self):\n",
                "        return self.data.free()"
            ]
        },
        {
            "attachments": {},
            "cell_type": "markdown",
            "metadata": {},
            "source": [
                "We've added some initial safety, this is the bare minimum but instead of allowing potential undefined behaviour, we're causing the program to throw an error when accessing an index out of bounds:"
            ]
        },
        {
            "cell_type": "code",
            "execution_count": 19,
            "metadata": {},
            "outputs": [
                {
                    "name": "stdout",
                    "output_type": "stream",
                    "text": [
                        "Error: Trying to access index out of bounds\n"
                    ]
                }
            ],
            "source": [
                "let coords = Coords(5)\n",
                "\n",
                "print(coords[5].x)"
            ]
        },
        {
            "attachments": {},
            "cell_type": "markdown",
            "metadata": {},
            "source": [
                "Experiment with your own safety checks and adding functions utilizing the pointer safely, Mojo gives you the power to do whatever you want with pointers, but [always remember what uncle ben said](https://youtu.be/P9qCFIVlNyM?t=12)"
            ]
        },
        {
            "attachments": {},
            "cell_type": "markdown",
            "metadata": {},
            "source": [
                "<CommentService />"
            ]
        }
    ],
    "metadata": {
        "kernelspec": {
            "display_name": "Mojo",
            "language": "mojo",
            "name": "mojo-jupyter-kernel"
        },
        "language_info": {
            "codemirror_mode": {
                "name": "mojo"
            },
            "file_extension": ".mojo",
            "mimetype": "text/x-mojo",
            "name": "mojo"
        },
        "orig_nbformat": 4
    },
    "nbformat": 4,
    "nbformat_minor": 2
}
