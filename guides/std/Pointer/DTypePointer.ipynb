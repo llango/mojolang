{
    "cells": [
        {
            "attachments": {},
            "cell_type": "markdown",
            "metadata": {},
            "source": [
                "---\n",
                "title: DTypePointer\n",
                "categories: Pointer\n",
                "usage: Store an address with a given DType, allowing you to allocate, load and modify data with convenient access to SIMD operations.\n",
                "---\n",
                "# DTypePointer\n",
                "  Store an address with a given DType, allowing you to allocate, load and modify data with convenient access to SIMD operations."
            ]
        },
        {
            "attachments": {},
            "cell_type": "markdown",
            "metadata": {},
            "source": [
                "## Import"
            ]
        },
        {
            "cell_type": "code",
            "execution_count": 1,
            "metadata": {},
            "outputs": [],
            "source": [
                "from Pointer import DTypePointer\n",
                "\n",
                "from DType import DType\n",
                "from Random import rand\n",
                "from Memory import memset_zero"
            ]
        },
        {
            "attachments": {},
            "cell_type": "markdown",
            "metadata": {},
            "source": [
                "## Initialization\n",
                "Create two variables to store a new address on the heap and allocate 8 bytes"
            ]
        },
        {
            "cell_type": "code",
            "execution_count": 2,
            "metadata": {},
            "outputs": [],
            "source": [
                "var p1 = DTypePointer[DType.uint8].alloc(8)\n",
                "var p2 = DTypePointer[DType.uint8].alloc(8)"
            ]
        },
        {
            "attachments": {},
            "cell_type": "markdown",
            "metadata": {},
            "source": [
                "## Operators\n",
                "Perform operations with the two pointers"
            ]
        },
        {
            "cell_type": "code",
            "execution_count": 3,
            "metadata": {},
            "outputs": [
                {
                    "name": "stdout",
                    "output_type": "stream",
                    "text": [
                        "p1 is not null\n",
                        "p1 is at a lower address than p2: False\n",
                        "p1 and p2 are equal: False\n",
                        "p1 and p2 are not equal: True\n"
                    ]
                }
            ],
            "source": [
                "if p1:\n",
                "    print(\"p1 is not null\")\n",
                "print(\"p1 is at a lower address than p2:\", p1 < p2)\n",
                "print(\"p1 and p2 are equal:\", p1 == p2)\n",
                "print(\"p1 and p2 are not equal:\", p1 != p2)"
            ]
        },
        {
            "attachments": {},
            "cell_type": "markdown",
            "metadata": {},
            "source": [
                "## Storing and loading SIMD data\n",
                "First zero all the values for this exercise to make it clear what's happening. "
            ]
        },
        {
            "cell_type": "code",
            "execution_count": 4,
            "metadata": {},
            "outputs": [],
            "source": [
                "memset_zero(p1, 8)"
            ]
        },
        {
            "attachments": {},
            "cell_type": "markdown",
            "metadata": {},
            "source": [
                "this zeroes 8 bytes as `p1` a pointer of type `UInt8`, if it was `UInt16` it would set 8*16 bits to 0\n",
                "\n",
                "Grab the 8 values and print them:"
            ]
        },
        {
            "cell_type": "code",
            "execution_count": 5,
            "metadata": {},
            "outputs": [
                {
                    "name": "stdout",
                    "output_type": "stream",
                    "text": [
                        "[0, 0, 0, 0, 0, 0, 0, 0]\n"
                    ]
                }
            ],
            "source": [
                "var all_data = p1.simd_load[8](0)\n",
                "print(all_data)"
            ]
        },
        {
            "attachments": {},
            "cell_type": "markdown",
            "metadata": {},
            "source": [
                "Store some random data in only half of the 8 bytes:"
            ]
        },
        {
            "cell_type": "code",
            "execution_count": 6,
            "metadata": {},
            "outputs": [
                {
                    "name": "stdout",
                    "output_type": "stream",
                    "text": [
                        "[0, 0, 0, 0, 0, 0, 0, 0]\n"
                    ]
                }
            ],
            "source": [
                "rand(p1, 4)\n",
                "print(all_data)"
            ]
        },
        {
            "attachments": {},
            "cell_type": "markdown",
            "metadata": {},
            "source": [
                "Take note that the `all_data` variable does not contain a reference to the heap, it's a sequential 8 bytes on the stack or in a register, so we don't see the changed data yet.\n",
                "\n",
                "We need to load the data from the heap to see what's now at the address:"
            ]
        },
        {
            "cell_type": "code",
            "execution_count": 7,
            "metadata": {},
            "outputs": [
                {
                    "name": "stdout",
                    "output_type": "stream",
                    "text": [
                        "[0, 33, 193, 117, 0, 0, 0, 0]\n"
                    ]
                }
            ],
            "source": [
                "all_data = p1.simd_load[8](0)\n",
                "print(all_data)"
            ]
        },
        {
            "attachments": {},
            "cell_type": "markdown",
            "metadata": {},
            "source": [
                "Now lets grab the first half, add 1 to the first 4 bytes with a single instruction SIMD (Single Instruction, Multiple Data) and store it in the second half"
            ]
        },
        {
            "cell_type": "code",
            "execution_count": 8,
            "metadata": {},
            "outputs": [],
            "source": [
                "var half = p1.simd_load[4](0)\n",
                "half = half + 1\n",
                "p1.simd_store[4](4, half)"
            ]
        },
        {
            "attachments": {},
            "cell_type": "markdown",
            "metadata": {},
            "source": [
                "Load the data again and print it"
            ]
        },
        {
            "cell_type": "code",
            "execution_count": 9,
            "metadata": {},
            "outputs": [
                {
                    "name": "stdout",
                    "output_type": "stream",
                    "text": [
                        "[0, 33, 193, 117, 1, 34, 194, 118]\n"
                    ]
                }
            ],
            "source": [
                "all_data = p1.simd_load[8](0)\n",
                "print(all_data)"
            ]
        },
        {
            "attachments": {},
            "cell_type": "markdown",
            "metadata": {},
            "source": [
                "You're now taking advantage of the hardware by using specialized instructions to perform an operation on 32/64 bytes of data at once, instead of 4 separate operations, and these operations can also run through special registers that can significantly boost performance."
            ]
        },
        {
            "attachments": {},
            "cell_type": "markdown",
            "metadata": {},
            "source": [
                "## Pointer Arithmetic\n",
                "Lets use the same data from the SIMD operators, and shift the pointer address up by 1 byte"
            ]
        },
        {
            "cell_type": "code",
            "execution_count": 10,
            "metadata": {},
            "outputs": [
                {
                    "name": "stdout",
                    "output_type": "stream",
                    "text": [
                        "[33, 193, 117, 1, 34, 194, 118, 0]\n"
                    ]
                }
            ],
            "source": [
                "p1 += 1\n",
                "all_data = p1.simd_load[8](0)\n",
                "print(all_data)"
            ]
        },
        {
            "attachments": {},
            "cell_type": "markdown",
            "metadata": {},
            "source": [
                "You can see we're now starting from the 2nd byte, and we have a garbage value at the end that we haven't allocated! Be careful as this is undefined behaviour (UB) and a security vulnerability, attackers could take advantage of this. You need to be very careful not to introduce a problem like this when using pointers.\n",
                "\n",
                "Lets move back to where we were:"
            ]
        },
        {
            "cell_type": "code",
            "execution_count": 11,
            "metadata": {},
            "outputs": [
                {
                    "name": "stdout",
                    "output_type": "stream",
                    "text": [
                        "[0, 33, 193, 117, 1, 34, 194, 118]\n"
                    ]
                }
            ],
            "source": [
                "p1 -= 1\n",
                "all_data = p1.simd_load[8](0)\n",
                "print(all_data)"
            ]
        },
        {
            "attachments": {},
            "cell_type": "markdown",
            "metadata": {},
            "source": [
                "## Freeing memory\n",
                "If we don't free the memory, the operating system won't be able to reclaim it, this is one way memory leaks are created."
            ]
        },
        {
            "cell_type": "code",
            "execution_count": 12,
            "metadata": {},
            "outputs": [],
            "source": [
                "p1.free()"
            ]
        },
        {
            "attachments": {},
            "cell_type": "markdown",
            "metadata": {},
            "source": [
                "We can introduce a security vulnerability by using the pointer after free and accessing the garbage data that's not allocated, don't do this!"
            ]
        },
        {
            "cell_type": "code",
            "execution_count": 13,
            "metadata": {},
            "outputs": [
                {
                    "name": "stdout",
                    "output_type": "stream",
                    "text": [
                        "[99, 206, 45, 92, 5, 0, 0, 0]\n"
                    ]
                }
            ],
            "source": [
                "all_data = p1.simd_load[8](0)\n",
                "print(all_data)"
            ]
        },
        {
            "attachments": {},
            "cell_type": "markdown",
            "metadata": {},
            "source": [
                "## Build your own Struct\n",
                "Playing with pointers is dangerous! Lets build a safe `struct` abstraction around it that interacts with the pointer, so we have less surface area for potential mistakes."
            ]
        },
        {
            "cell_type": "code",
            "execution_count": 14,
            "metadata": {},
            "outputs": [],
            "source": [
                "struct Matrix:\n",
                "    var data: DTypePointer[DType.uint8]\n",
                "\n",
                "    fn __init__(inout self):\n",
                "        \"Initialize the struct and set everything to zero\"\n",
                "        self.data = DTypePointer[DType.uint8].alloc(64)\n",
                "        memset_zero(self.data, 64)\n",
                "\n",
                "    # This is what will run when the object goes out of scope\n",
                "    fn __del__(owned self):\n",
                "        return self.data.free()\n",
                "\n",
                "    # This allows you to use let x = obj[1]\n",
                "    fn __getitem__(self, row: Int) -> SIMD[DType.uint8, 8]:\n",
                "        return self.data.simd_load[8](row * 8)\n",
                "\n",
                "    # This allows you to use obj[1] = SIMD[DType.uint8]()\n",
                "    fn __setitem__(self, row: Int, data: SIMD[DType.uint8, 8]):\n",
                "        return self.data.simd_store[8](row * 8, data)\n",
                "\n",
                "    fn print_all(self):\n",
                "        print(\"--------matrix--------\")\n",
                "        for i in range(8):\n",
                "            print(self[i])"
            ]
        },
        {
            "attachments": {},
            "cell_type": "markdown",
            "metadata": {},
            "source": [
                "Initializing the matrix will set all the values to 0, please take note that the `matrix` identifier is immutable with `let`, but we're still able to modify the data because the `data` member is `var`"
            ]
        },
        {
            "cell_type": "code",
            "execution_count": 15,
            "metadata": {},
            "outputs": [
                {
                    "name": "stdout",
                    "output_type": "stream",
                    "text": [
                        "--------matrix--------\n",
                        "[0, 0, 0, 0, 0, 0, 0, 0]\n",
                        "[0, 0, 0, 0, 0, 0, 0, 0]\n",
                        "[0, 0, 0, 0, 0, 0, 0, 0]\n",
                        "[0, 0, 0, 0, 0, 0, 0, 0]\n",
                        "[0, 0, 0, 0, 0, 0, 0, 0]\n",
                        "[0, 0, 0, 0, 0, 0, 0, 0]\n",
                        "[0, 0, 0, 0, 0, 0, 0, 0]\n",
                        "[0, 0, 0, 0, 0, 0, 0, 0]\n"
                    ]
                }
            ],
            "source": [
                "let matrix = Matrix()\n",
                "matrix.print_all()"
            ]
        },
        {
            "attachments": {},
            "cell_type": "markdown",
            "metadata": {},
            "source": [
                "We can loop through and set the values, one row at a time with SIMD using the abstraction we built"
            ]
        },
        {
            "cell_type": "code",
            "execution_count": 16,
            "metadata": {},
            "outputs": [
                {
                    "name": "stdout",
                    "output_type": "stream",
                    "text": [
                        "--------matrix--------\n",
                        "[0, 0, 0, 0, 0, 0, 0, 0]\n",
                        "[1, 1, 1, 1, 1, 1, 1, 1]\n",
                        "[2, 2, 2, 2, 2, 2, 2, 2]\n",
                        "[3, 3, 3, 3, 3, 3, 3, 3]\n",
                        "[4, 4, 4, 4, 4, 4, 4, 4]\n",
                        "[5, 5, 5, 5, 5, 5, 5, 5]\n",
                        "[6, 6, 6, 6, 6, 6, 6, 6]\n",
                        "[7, 7, 7, 7, 7, 7, 7, 7]\n"
                    ]
                }
            ],
            "source": [
                "for i in range(8):\n",
                "    matrix[i] = i\n",
                "\n",
                "matrix.print_all()"
            ]
        },
        {
            "attachments": {},
            "cell_type": "markdown",
            "metadata": {},
            "source": [
                "Because it's returning a `SIMD[DType.u8, 8]`, we can also modify the column value using `__setitem__` from the SIMD implementation"
            ]
        },
        {
            "cell_type": "code",
            "execution_count": 17,
            "metadata": {},
            "outputs": [
                {
                    "name": "stdout",
                    "output_type": "stream",
                    "text": [
                        "--------matrix--------\n",
                        "[9, 0, 0, 0, 0, 0, 0, 9]\n",
                        "[9, 1, 1, 1, 1, 1, 1, 9]\n",
                        "[9, 2, 2, 2, 2, 2, 2, 9]\n",
                        "[9, 3, 3, 3, 3, 3, 3, 9]\n",
                        "[9, 4, 4, 4, 4, 4, 4, 9]\n",
                        "[9, 5, 5, 5, 5, 5, 5, 9]\n",
                        "[9, 6, 6, 6, 6, 6, 6, 9]\n",
                        "[9, 7, 7, 7, 7, 7, 7, 9]\n"
                    ]
                }
            ],
            "source": [
                "for i in range(8):\n",
                "    matrix[i][0] = 9\n",
                "    matrix[i][7] = 9\n",
                "\n",
                "matrix.print_all()"
            ]
        },
        {
            "attachments": {},
            "cell_type": "markdown",
            "metadata": {},
            "source": [
                "For one more example lets try grabbing the fourth row, doubling it, and then writing that to the first row"
            ]
        },
        {
            "cell_type": "code",
            "execution_count": 18,
            "metadata": {},
            "outputs": [
                {
                    "name": "stdout",
                    "output_type": "stream",
                    "text": [
                        "\n",
                        "forth row: [9, 3, 3, 3, 3, 3, 3, 9]\n",
                        "modified: [18, 6, 6, 6, 6, 6, 6, 18] \n",
                        "\n",
                        "--------matrix--------\n",
                        "[18, 6, 6, 6, 6, 6, 6, 18]\n",
                        "[9, 1, 1, 1, 1, 1, 1, 9]\n",
                        "[9, 2, 2, 2, 2, 2, 2, 9]\n",
                        "[9, 3, 3, 3, 3, 3, 3, 9]\n",
                        "[9, 4, 4, 4, 4, 4, 4, 9]\n",
                        "[9, 5, 5, 5, 5, 5, 5, 9]\n",
                        "[9, 6, 6, 6, 6, 6, 6, 9]\n",
                        "[9, 7, 7, 7, 7, 7, 7, 9]\n"
                    ]
                }
            ],
            "source": [
                "var fourth_row = matrix[3]\n",
                "print(\"\\nforth row:\", fourth_row)\n",
                "fourth_row *= 2\n",
                "print(\"modified:\", fourth_row, \"\\n\")\n",
                "\n",
                "matrix[0] = fourth_row\n",
                "matrix.print_all()"
            ]
        },
        {
            "attachments": {},
            "cell_type": "markdown",
            "metadata": {},
            "source": [
                "We've created a specific specialized data type that is optimized to perform operations on a matrix of data 8*8 bytes wide, experiment yourself, create a function to manipulate the entire matrix of 64 bytes using SIMD.\n",
                "\n",
                "Mojo gives you the power to do whatever you want with pointers, but [always remember what uncle ben said](https://youtu.be/P9qCFIVlNyM?t=12)"
            ]
        },
        {
            "attachments": {},
            "cell_type": "markdown",
            "metadata": {},
            "source": [
                "<CommentService />"
            ]
        }
    ],
    "metadata": {
        "kernelspec": {
            "display_name": "Mojo",
            "language": "mojo",
            "name": "mojo-jupyter-kernel"
        },
        "language_info": {
            "codemirror_mode": {
                "name": "mojo"
            },
            "file_extension": ".mojo",
            "mimetype": "text/x-mojo",
            "name": "mojo"
        },
        "orig_nbformat": 4
    },
    "nbformat": 4,
    "nbformat_minor": 2
}
