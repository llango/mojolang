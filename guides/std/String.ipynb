{
    "cells": [
        {
            "attachments": {},
            "cell_type": "markdown",
            "metadata": {
                "vscode": {
                    "languageId": "plaintext"
                }
            },
            "source": [
                "---\n",
                "title: String\n",
                "categories: String\n",
                "usage: Mutable String with DynamicVector[Int8] as the underlying data type\n",
                "---\n",
                "\n",
                "Contributed by [gautam](https://github.com/gautam-e)\n",
                "\n",
                "# String\n",
                "\n",
                "## Initialization"
            ]
        },
        {
            "cell_type": "code",
            "execution_count": 1,
            "metadata": {},
            "outputs": [
                {
                    "name": "stdout",
                    "output_type": "stream",
                    "text": [
                        "abcde\n"
                    ]
                }
            ],
            "source": [
                "from String import String\n",
                "\n",
                "var s = String(\"abcde\")\n",
                "print(s)"
            ]
        },
        {
            "attachments": {},
            "cell_type": "markdown",
            "metadata": {},
            "source": [
                "## Indexing"
            ]
        },
        {
            "attachments": {},
            "cell_type": "markdown",
            "metadata": {},
            "source": [
                "Loop through the string and print each item"
            ]
        },
        {
            "cell_type": "code",
            "execution_count": 2,
            "metadata": {},
            "outputs": [
                {
                    "name": "stdout",
                    "output_type": "stream",
                    "text": [
                        "a\n",
                        "b\n",
                        "c\n",
                        "d\n",
                        "e\n"
                    ]
                }
            ],
            "source": [
                "for i in range(len(s)):\n",
                "    print(s[i])"
            ]
        },
        {
            "attachments": {},
            "cell_type": "markdown",
            "metadata": {},
            "source": [
                "Both slicing and indexing are on bytes, not characters, for example an emoji is 4 bytes so you need to use this slice of 4 bytes to print the character:"
            ]
        },
        {
            "cell_type": "code",
            "execution_count": 3,
            "metadata": {},
            "outputs": [
                {
                    "name": "stdout",
                    "output_type": "stream",
                    "text": [
                        "🔥\n"
                    ]
                }
            ],
            "source": [
                "var utf8 = String(\"mojo🔥\")\n",
                "print(utf8[4:8])"
            ]
        },
        {
            "attachments": {},
            "cell_type": "markdown",
            "metadata": {},
            "source": [
                "## Slicing"
            ]
        },
        {
            "attachments": {},
            "cell_type": "markdown",
            "metadata": {},
            "source": [
                "Print part of the string sting using a slice\n",
                "\n",
                "Slice from 2 up to 4 non-inclusive:"
            ]
        },
        {
            "cell_type": "code",
            "execution_count": 4,
            "metadata": {},
            "outputs": [
                {
                    "name": "stdout",
                    "output_type": "stream",
                    "text": [
                        "cd\n"
                    ]
                }
            ],
            "source": [
                "print(s[2:4]) "
            ]
        },
        {
            "attachments": {},
            "cell_type": "markdown",
            "metadata": {},
            "source": [
                "Slice all characters starting from 1:"
            ]
        },
        {
            "cell_type": "code",
            "execution_count": 5,
            "metadata": {},
            "outputs": [
                {
                    "name": "stdout",
                    "output_type": "stream",
                    "text": [
                        "bcde\n"
                    ]
                }
            ],
            "source": [
                "print(s[1:]) "
            ]
        },
        {
            "attachments": {},
            "cell_type": "markdown",
            "metadata": {},
            "source": [
                "Slice all characters up to the second last:"
            ]
        },
        {
            "cell_type": "code",
            "execution_count": 6,
            "metadata": {},
            "outputs": [
                {
                    "name": "stdout",
                    "output_type": "stream",
                    "text": [
                        "abcd\n"
                    ]
                }
            ],
            "source": [
                "print(s[:-1]) "
            ]
        },
        {
            "attachments": {},
            "cell_type": "markdown",
            "metadata": {},
            "source": [
                "Only get every second item after the start position:"
            ]
        },
        {
            "cell_type": "code",
            "execution_count": 7,
            "metadata": {},
            "outputs": [
                {
                    "name": "stdout",
                    "output_type": "stream",
                    "text": [
                        "ace\n"
                    ]
                }
            ],
            "source": [
                "print(s[::2]) "
            ]
        },
        {
            "attachments": {},
            "cell_type": "markdown",
            "metadata": {},
            "source": [
                "## Appending\n",
                "Returns a new string by copying memory"
            ]
        },
        {
            "cell_type": "code",
            "execution_count": 8,
            "metadata": {},
            "outputs": [
                {
                    "name": "stdout",
                    "output_type": "stream",
                    "text": [
                        "LeftRight🔥\n"
                    ]
                }
            ],
            "source": [
                "let x = String(\"Left\")\n",
                "let y = String(\"Right\")\n",
                "\n",
                "var c = x + y\n",
                "\n",
                "c += \"🔥\"\n",
                "\n",
                "print(c)"
            ]
        },
        {
            "attachments": {},
            "cell_type": "markdown",
            "metadata": {},
            "source": [
                "## Join"
            ]
        },
        {
            "cell_type": "code",
            "execution_count": 9,
            "metadata": {},
            "outputs": [],
            "source": [
                "var j = String(\"🔥\")"
            ]
        },
        {
            "attachments": {},
            "cell_type": "markdown",
            "metadata": {},
            "source": [
                "The `join` function has a similar syntax to Python's `join`. You can join elements using the current string as a delimiter."
            ]
        },
        {
            "cell_type": "code",
            "execution_count": 10,
            "metadata": {},
            "outputs": [
                {
                    "name": "stdout",
                    "output_type": "stream",
                    "text": [
                        "a🔥b\n",
                        "40🔥2\n"
                    ]
                }
            ],
            "source": [
                "print(j.join('a', 'b'))\n",
                "print(j.join(40, 2))"
            ]
        },
        {
            "attachments": {},
            "cell_type": "markdown",
            "metadata": {},
            "source": [
                "You can also use it to join elements of a StaticIntTuple."
            ]
        },
        {
            "cell_type": "code",
            "execution_count": 11,
            "metadata": {},
            "outputs": [
                {
                    "name": "stdout",
                    "output_type": "stream",
                    "text": [
                        "1🔥2🔥3\n"
                    ]
                }
            ],
            "source": [
                "from Index import StaticIntTuple\n",
                "\n",
                "var sit = StaticIntTuple[3](1,2,3)\n",
                "print(j.join(sit))"
            ]
        },
        {
            "attachments": {},
            "cell_type": "markdown",
            "metadata": {},
            "source": [
                "## atol\n",
                "The term comes from the C stdlib for `ASCII to long-integer`, it converts a string to an `Int` (currently just works with base-10 / decimal):"
            ]
        },
        {
            "cell_type": "code",
            "execution_count": 12,
            "metadata": {},
            "outputs": [
                {
                    "name": "stdout",
                    "output_type": "stream",
                    "text": [
                        "19\n"
                    ]
                }
            ],
            "source": [
                "from String import atol\n",
                "\n",
                "var n = atol(\"19\")\n",
                "print(n)"
            ]
        },
        {
            "attachments": {},
            "cell_type": "markdown",
            "metadata": {},
            "source": [
                "This will throw an error because there's a character that's not a digit:"
            ]
        },
        {
            "cell_type": "code",
            "execution_count": 13,
            "metadata": {},
            "outputs": [
                {
                    "name": "stdout",
                    "output_type": "stream",
                    "text": [
                        "Error: String is not convertible to integer.\n"
                    ]
                }
            ],
            "source": [
                "var e = atol(\"hi\")\n",
                "print(e)"
            ]
        },
        {
            "attachments": {},
            "cell_type": "markdown",
            "metadata": {},
            "source": [
                "## chr\n",
                "Use chr to convert an integer between 0 and 255 to a string containing the single character"
            ]
        },
        {
            "cell_type": "code",
            "execution_count": 14,
            "metadata": {},
            "outputs": [
                {
                    "name": "stdout",
                    "output_type": "stream",
                    "text": [
                        "a\n"
                    ]
                }
            ],
            "source": [
                "from String import chr\n",
                "\n",
                "print(chr(97))"
            ]
        },
        {
            "attachments": {},
            "cell_type": "markdown",
            "metadata": {},
            "source": [
                "## ord\n",
                "Stands for `ordinal` which means the position of the character in ASCII"
            ]
        },
        {
            "cell_type": "code",
            "execution_count": 15,
            "metadata": {},
            "outputs": [
                {
                    "name": "stdout",
                    "output_type": "stream",
                    "text": [
                        "97\n"
                    ]
                }
            ],
            "source": [
                "from String import ord\n",
                "\n",
                "print(ord('a'))"
            ]
        },
        {
            "attachments": {},
            "cell_type": "markdown",
            "metadata": {},
            "source": [
                "Only 1 byte utf8 (ASCII) characters currently work, anything outside will currently wrap:"
            ]
        },
        {
            "cell_type": "code",
            "execution_count": 16,
            "metadata": {},
            "outputs": [
                {
                    "name": "stdout",
                    "output_type": "stream",
                    "text": [
                        "-16\n"
                    ]
                }
            ],
            "source": [
                "print(ord('🔥'))"
            ]
        },
        {
            "attachments": {},
            "cell_type": "markdown",
            "metadata": {},
            "source": [
                "## isdigit\n",
                "Check if the character passed in is a valid decimal between 0 and 9, which in ASCII is 48 to 57"
            ]
        },
        {
            "cell_type": "code",
            "execution_count": 37,
            "metadata": {},
            "outputs": [
                {
                    "name": "stdout",
                    "output_type": "stream",
                    "text": [
                        "True\n",
                        "False\n"
                    ]
                }
            ],
            "source": [
                "from String import isdigit\n",
                "\n",
                "print(isdigit(ord('8')))\n",
                "print(isdigit(ord('a')))"
            ]
        },
        {
            "attachments": {},
            "cell_type": "markdown",
            "metadata": {},
            "source": [
                "## Conversions\n",
                "### To `DynamicVector[Int8]`"
            ]
        },
        {
            "attachments": {},
            "cell_type": "markdown",
            "metadata": {},
            "source": [
                "\n",
                "In Mojo a string is backed by a `DynamicVector[Int8]`, which you can access via the `buffer` member variable:"
            ]
        },
        {
            "cell_type": "code",
            "execution_count": 18,
            "metadata": {},
            "outputs": [
                {
                    "name": "stdout",
                    "output_type": "stream",
                    "text": [
                        "4\n"
                    ]
                }
            ],
            "source": [
                "let buffer = String(\"mojo\").buffer\n",
                "print(buffer.capacity)"
            ]
        },
        {
            "attachments": {},
            "cell_type": "markdown",
            "metadata": {},
            "source": [
                "Force an error so Mojo shows us the type:"
            ]
        },
        {
            "cell_type": "code",
            "execution_count": 19,
            "metadata": {},
            "outputs": [
                {
                    "name": "stderr",
                    "output_type": "stream",
                    "text": [
                        "error: \u001b[0;1;31m\u001b[1mExpression [19]:25:14: \u001b[0m\u001b[1mcannot implicitly convert 'StringLiteral' value to 'DynamicVector[SIMD[si8, 1]]' in assignment\n",
                        "\u001b[0m    buffer = \"\"\n",
                        "\u001b[0;1;32m             ^~\n",
                        "\u001b[0m\u001b[0m\n"
                    ]
                }
            ],
            "source": [
                "buffer = \"\""
            ]
        },
        {
            "attachments": {},
            "cell_type": "markdown",
            "metadata": {},
            "source": [
                "### From `DynamicVector[Int8]`"
            ]
        },
        {
            "cell_type": "code",
            "execution_count": 20,
            "metadata": {},
            "outputs": [
                {
                    "name": "stdout",
                    "output_type": "stream",
                    "text": [
                        "mojo\n"
                    ]
                }
            ],
            "source": [
                "from Vector import DynamicVector\n",
                "\n",
                "var x = DynamicVector[Int8](4)\n",
                "x.push_back(109)\n",
                "x.push_back(111)\n",
                "x.push_back(106)\n",
                "x.push_back(111)\n",
                "\n",
                "let s = String(x.data, 4)\n",
                "print(s)"
            ]
        },
        {
            "attachments": {},
            "cell_type": "markdown",
            "metadata": {},
            "source": [
                "<CommentService />"
            ]
        }
    ],
    "metadata": {
        "kernelspec": {
            "display_name": "Mojo",
            "language": "mojo",
            "name": "mojo-jupyter-kernel"
        },
        "language_info": {
            "codemirror_mode": {
                "name": "mojo"
            },
            "file_extension": ".mojo",
            "mimetype": "text/x-mojo",
            "name": "mojo"
        },
        "orig_nbformat": 4
    },
    "nbformat": 4,
    "nbformat_minor": 2
}
