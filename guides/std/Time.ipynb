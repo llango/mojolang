{
 "cells": [
  {
   "attachments": {},
   "cell_type": "markdown",
   "metadata": {},
   "source": [
    "---\n",
    "title: Time\n",
    "categories: Time\n",
    "usage: Measure elapsed time and make a thread sleep\n",
    "---\n",
    "# Time"
   ]
  },
  {
   "cell_type": "code",
   "execution_count": 1,
   "metadata": {},
   "outputs": [],
   "source": [
    "from Time import now, sleep, time_function"
   ]
  },
  {
   "attachments": {},
   "cell_type": "markdown",
   "metadata": {},
   "source": [
    "## now\n",
    "Gets the current nanoseconds using the systems monotonic clock, which is generally the time elapsed since the machine was booted, but will vary behaviour by platform for states like `sleep` etc."
   ]
  },
  {
   "cell_type": "code",
   "execution_count": 2,
   "metadata": {},
   "outputs": [
    {
     "name": "stdout",
     "output_type": "stream",
     "text": [
      "276729993584072\n"
     ]
    }
   ],
   "source": [
    "print(now())"
   ]
  },
  {
   "attachments": {},
   "cell_type": "markdown",
   "metadata": {},
   "source": [
    "## sleep\n",
    "Make a thread sleep for the duration in seconds"
   ]
  },
  {
   "cell_type": "code",
   "execution_count": 3,
   "metadata": {},
   "outputs": [
    {
     "name": "stdout",
     "output_type": "stream",
     "text": [
      "slept for 1062234 nanoseconds\n"
     ]
    }
   ],
   "source": [
    "let tic = now()\n",
    "sleep(.001)\n",
    "let toc = now() - tic\n",
    "\n",
    "print(\"slept for\", toc, \"nanoseconds\")"
   ]
  },
  {
   "attachments": {},
   "cell_type": "markdown",
   "metadata": {},
   "source": [
    "## time_function\n",
    "Pass in a nested `fn` a.k.a `closure` that takes no arguments and returns `None` as a parameter, e.g. to time a function named `sleep1ms`:"
   ]
  },
  {
   "cell_type": "code",
   "execution_count": 4,
   "metadata": {},
   "outputs": [
    {
     "name": "stdout",
     "output_type": "stream",
     "text": [
      "sleeper took 1060233 nanoseconds to run\n"
     ]
    }
   ],
   "source": [
    "fn sleep1ms():\n",
    "    sleep(.001)\n",
    "\n",
    "fn measure():\n",
    "    fn closure() -> None:\n",
    "        sleep1ms()\n",
    "\n",
    "    let nanos = time_function[closure]()\n",
    "    print(\"sleeper took\", nanos, \"nanoseconds to run\")\n",
    "\n",
    "measure()"
   ]
  },
  {
   "attachments": {},
   "cell_type": "markdown",
   "metadata": {},
   "source": [
    "<CommentService />"
   ]
  }
 ],
 "metadata": {
  "kernelspec": {
   "display_name": "Mojo",
   "language": "mojo",
   "name": "mojo-jupyter-kernel"
  },
  "language_info": {
   "codemirror_mode": {
    "name": "mojo"
   },
   "file_extension": ".mojo",
   "mimetype": "text/x-mojo",
   "name": "mojo"
  },
  "orig_nbformat": 4
 },
 "nbformat": 4,
 "nbformat_minor": 2
}
