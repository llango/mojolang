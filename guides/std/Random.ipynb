{
    "cells": [
        {
            "attachments": {},
            "cell_type": "markdown",
            "metadata": {},
            "source": [
                "---\n",
                "title: Random\n",
                "categories: Random\n",
                "usage: \"Provides functions for random numbers\"\n",
                "---\n",
                "\n",
                "Contributed by [gautam](https://github.com/gautam-e)\n",
                "\n",
                "# Random\n",
                "\n",
                "Provides functions for random numbers"
            ]
        },
        {
            "cell_type": "code",
            "execution_count": 1,
            "metadata": {},
            "outputs": [],
            "source": [
                "from Random import rand, randint\n",
                "from Pointer import DTypePointer\n",
                "from DType import DType\n",
                "from Memory import memset_zero"
            ]
        },
        {
            "attachments": {},
            "cell_type": "markdown",
            "metadata": {},
            "source": [
                "Let's create a two variables to store new addresses on the heap and allocate space for 8 values, note the different `DType`:"
            ]
        },
        {
            "cell_type": "code",
            "execution_count": 2,
            "metadata": {},
            "outputs": [],
            "source": [
                "var p1 = DTypePointer[DType.uint8].alloc(8)\n",
                "var p2 = DTypePointer[DType.float32].alloc(8)"
            ]
        },
        {
            "attachments": {},
            "cell_type": "markdown",
            "metadata": {},
            "source": [
                "Zero them to ensure we don't read garbage memory:"
            ]
        },
        {
            "cell_type": "code",
            "execution_count": 11,
            "metadata": {},
            "outputs": [],
            "source": [
                "memset_zero(p1, 8)\n",
                "memset_zero(p2, 8)"
            ]
        },
        {
            "cell_type": "code",
            "execution_count": 12,
            "metadata": {},
            "outputs": [
                {
                    "name": "stdout",
                    "output_type": "stream",
                    "text": [
                        "values at p1: [0, 0, 0, 0, 0, 0, 0, 0]\n",
                        "values at p2: [0.0, 0.0, 0.0, 0.0, 0.0, 0.0, 0.0, 0.0]\n"
                    ]
                }
            ],
            "source": [
                "print('values at p1:', p1.simd_load[8](0))\n",
                "print('values at p2:', p2.simd_load[8](0))"
            ]
        },
        {
            "attachments": {},
            "cell_type": "markdown",
            "metadata": {},
            "source": [
                "## rand\n",
                "\n",
                "Fill with 8 random numbers:"
            ]
        },
        {
            "cell_type": "code",
            "execution_count": 13,
            "metadata": {},
            "outputs": [
                {
                    "name": "stdout",
                    "output_type": "stream",
                    "text": [
                        "values at p1: [171, 1, 98, 17, 106, 175, 150, 238]\n",
                        "values at p2: [0.066842235624790192, 0.68677270412445068, 0.93043649196624756, 0.52692878246307373, 0.65391898155212402, 0.70119059085845947, 0.76219803094863892, 0.047464512288570404]\n"
                    ]
                }
            ],
            "source": [
                "\n",
                "rand[DType.uint8](p1, 8)\n",
                "rand[DType.float32](p2, 8)\n",
                "print('values at p1:', p1.simd_load[8](0))\n",
                "print('values at p2:', p2.simd_load[8](0))\n"
            ]
        },
        {
            "attachments": {},
            "cell_type": "markdown",
            "metadata": {},
            "source": [
                "## randint\n",
                "Fill memory with integer values within a range, e.g. 0 to 10."
            ]
        },
        {
            "cell_type": "code",
            "execution_count": 14,
            "metadata": {},
            "outputs": [
                {
                    "name": "stdout",
                    "output_type": "stream",
                    "text": [
                        "[9, 5, 1, 7, 4, 7, 10, 8]\n"
                    ]
                }
            ],
            "source": [
                "randint[DType.uint8](p1, 8, 0, 10)\n",
                "print(p1.simd_load[8](0))"
            ]
        },
        {
            "attachments": {},
            "cell_type": "markdown",
            "metadata": {},
            "source": [
                "## random_float64\n",
                "\n",
                "Returns a single random `Float64` value within a specified range e.g 0.0 to 1.0."
            ]
        },
        {
            "cell_type": "code",
            "execution_count": 15,
            "metadata": {},
            "outputs": [
                {
                    "name": "stdout",
                    "output_type": "stream",
                    "text": [
                        "0.32823422616000769\n"
                    ]
                }
            ],
            "source": [
                "from Random import random_float64\n",
                "print(random_float64(0.0, 1.0))"
            ]
        },
        {
            "attachments": {},
            "cell_type": "markdown",
            "metadata": {},
            "source": [
                "## random_si64\n",
                "\n",
                "Returns a single random `Int64` value within a specified range e.g -10 to +10."
            ]
        },
        {
            "cell_type": "code",
            "execution_count": 16,
            "metadata": {},
            "outputs": [
                {
                    "name": "stdout",
                    "output_type": "stream",
                    "text": [
                        "-8\n"
                    ]
                }
            ],
            "source": [
                "from Random import random_si64\n",
                "print(random_si64(-10, 10))"
            ]
        },
        {
            "attachments": {},
            "cell_type": "markdown",
            "metadata": {},
            "source": [
                "## random_ui64\n",
                "\n",
                "Returns a single random `UInt64` value within a specified range e.g 0 to 10."
            ]
        },
        {
            "cell_type": "code",
            "execution_count": 19,
            "metadata": {},
            "outputs": [
                {
                    "name": "stdout",
                    "output_type": "stream",
                    "text": [
                        "2\n"
                    ]
                }
            ],
            "source": [
                "from Random import random_ui64\n",
                "print(random_ui64(0, 10))"
            ]
        },
        {
            "attachments": {},
            "cell_type": "markdown",
            "metadata": {},
            "source": [
                "<CommentService />"
            ]
        }
    ],
    "metadata": {
        "kernelspec": {
            "display_name": "Mojo",
            "language": "mojo",
            "name": "mojo-jupyter-kernel"
        },
        "language_info": {
            "codemirror_mode": {
                "name": "mojo"
            },
            "file_extension": ".mojo",
            "mimetype": "text/x-mojo",
            "name": "mojo"
        },
        "orig_nbformat": 4
    },
    "nbformat": 4,
    "nbformat_minor": 2
}
