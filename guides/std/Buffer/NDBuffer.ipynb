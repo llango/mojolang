{
    "cells": [
        {
            "attachments": {},
            "cell_type": "markdown",
            "metadata": {},
            "source": [
                "---\n",
                "title: NDBuffer\n",
                "categories: Buffer\n",
                "usage: A buffer that doesn't own the underlying memory, it allows you to represent an N-Dimensional shape both statically, and dynamically at runtime\n",
                "---\n",
                "\n",
                "# NDBuffer\n",
                "A buffer that doesn't own the underlying memory, it allows you to represent an N-Dimensional shape both statically, and dynamically at runtime\n",
                "\n",
                "## import"
            ]
        },
        {
            "cell_type": "code",
            "execution_count": 1,
            "metadata": {},
            "outputs": [],
            "source": [
                "from DType import DType\n",
                "from List import DimList\n",
                "from Pointer import DTypePointer\n",
                "from Buffer import NDBuffer\n",
                "from Memory import memset_zero\n",
                "from List import VariadicList, DimList\n",
                "from Assert import assert_param\n",
                "from Functional import unroll\n",
                "from Index import StaticIntTuple"
            ]
        },
        {
            "attachments": {},
            "cell_type": "markdown",
            "metadata": {},
            "source": [
                "## setup\n",
                "This struct allows you to carry around the pointer that owns the data the NDBuffer is pointing to."
            ]
        },
        {
            "cell_type": "code",
            "execution_count": 2,
            "metadata": {},
            "outputs": [],
            "source": [
                "struct Tensor[rank: Int, shape: DimList, type: DType]:\n",
                "    var data: DTypePointer[type]\n",
                "    var buffer: NDBuffer[rank, shape, type]\n",
                "\n",
                "    fn __init__(inout self):\n",
                "        let size = shape.product[rank]().get()\n",
                "        self.data = DTypePointer[type].alloc(size)\n",
                "        memset_zero(self.data, size)\n",
                "        self.buffer = NDBuffer[rank, shape, type](self.data)\n",
                "\n",
                "    fn __del__(owned self):\n",
                "        self.data.free()"
            ]
        },
        {
            "attachments": {},
            "cell_type": "markdown",
            "metadata": {},
            "source": [
                "## init\n",
                "We can now create a shape statically and store data, but be careful there's no safety checks on our struct yet:"
            ]
        },
        {
            "cell_type": "code",
            "execution_count": 3,
            "metadata": {},
            "outputs": [],
            "source": [
                "let x = Tensor[3, DimList(2, 2, 2), DType.uint8]()\n",
                "x.data.simd_store(0, SIMD[DType.uint8, 8](1, 2, 3, 4, 5, 6, 7, 8))"
            ]
        },
        {
            "attachments": {},
            "cell_type": "markdown",
            "metadata": {},
            "source": [
                "Let's try using the buffer now:"
            ]
        },
        {
            "cell_type": "code",
            "execution_count": 4,
            "metadata": {},
            "outputs": [
                {
                    "name": "stdout",
                    "output_type": "stream",
                    "text": [
                        "8\n"
                    ]
                }
            ],
            "source": [
                "print(x.buffer.num_elements())"
            ]
        },
        {
            "attachments": {},
            "cell_type": "markdown",
            "metadata": {},
            "source": [
                "## indexing"
            ]
        },
        {
            "attachments": {},
            "cell_type": "markdown",
            "metadata": {},
            "source": [
                "We can also access elements via it's 3D shape:"
            ]
        },
        {
            "cell_type": "code",
            "execution_count": 5,
            "metadata": {},
            "outputs": [
                {
                    "name": "stdout",
                    "output_type": "stream",
                    "text": [
                        "1\n"
                    ]
                }
            ],
            "source": [
                "print(x.buffer[0, 0, 0])"
            ]
        },
        {
            "attachments": {},
            "cell_type": "markdown",
            "metadata": {},
            "source": [
                "Notice incrementing the first dimension will get the 5th item:"
            ]
        },
        {
            "cell_type": "code",
            "execution_count": 6,
            "metadata": {},
            "outputs": [
                {
                    "name": "stdout",
                    "output_type": "stream",
                    "text": [
                        "5\n"
                    ]
                }
            ],
            "source": [
                "print(x.buffer[1, 0, 0])"
            ]
        },
        {
            "attachments": {},
            "cell_type": "markdown",
            "metadata": {},
            "source": [
                "And incrementing the 2nd dimension will increment get the 7th:"
            ]
        },
        {
            "cell_type": "code",
            "execution_count": 7,
            "metadata": {},
            "outputs": [
                {
                    "name": "stdout",
                    "output_type": "stream",
                    "text": [
                        "7\n"
                    ]
                }
            ],
            "source": [
                "print(x.buffer[1, 1, 0])"
            ]
        },
        {
            "attachments": {},
            "cell_type": "markdown",
            "metadata": {},
            "source": [
                "To set an item we need to use a `StaticIntTuple`"
            ]
        },
        {
            "cell_type": "code",
            "execution_count": 8,
            "metadata": {},
            "outputs": [
                {
                    "name": "stdout",
                    "output_type": "stream",
                    "text": [
                        "50\n"
                    ]
                }
            ],
            "source": [
                "x.buffer[StaticIntTuple[3](1, 1, 1)] = 50\n",
                "print(x.buffer[1, 1, 1])"
            ]
        },
        {
            "attachments": {},
            "cell_type": "markdown",
            "metadata": {},
            "source": [
                "## runtime bounds checking"
            ]
        },
        {
            "attachments": {},
            "cell_type": "markdown",
            "metadata": {},
            "source": [
                "There are no safety checks on our struct yet so we can access data out of bounds:"
            ]
        },
        {
            "cell_type": "code",
            "execution_count": 9,
            "metadata": {},
            "outputs": [
                {
                    "name": "stdout",
                    "output_type": "stream",
                    "text": [
                        "0\n"
                    ]
                }
            ],
            "source": [
                "print(x.buffer[1, 1, 2])"
            ]
        },
        {
            "attachments": {},
            "cell_type": "markdown",
            "metadata": {},
            "source": [
                "This is a big safety concern so let's make our own `__get__` method that enforces bounds checking:"
            ]
        },
        {
            "cell_type": "code",
            "execution_count": 10,
            "metadata": {},
            "outputs": [],
            "source": [
                "struct Tensor[rank: Int, shape: DimList, type: DType]:\n",
                "    var data: DTypePointer[type]\n",
                "    var buffer: NDBuffer[rank, shape, type]\n",
                "    fn __init__(inout self):\n",
                "        let size = shape.product[rank]().get()\n",
                "        self.data = DTypePointer[type].alloc(size)\n",
                "        memset_zero(self.data, size)\n",
                "        self.buffer = NDBuffer[rank, shape, type](self.data)\n",
                "\n",
                "    fn __del__(owned self):\n",
                "        self.data.free()\n",
                "\n",
                "    fn __getitem__(self, *idx: Int) raises -> SIMD[type, 1]:\n",
                "        for i in range(rank):\n",
                "            if idx[i] >= shape.value[i].get():\n",
                "                raise Error(\"index out of bounds\")\n",
                "        return self.buffer.simd_load[1](VariadicList[Int](idx))"
            ]
        },
        {
            "cell_type": "code",
            "execution_count": 11,
            "metadata": {},
            "outputs": [
                {
                    "name": "stdout",
                    "output_type": "stream",
                    "text": [
                        "Error: index out of bounds\n"
                    ]
                }
            ],
            "source": [
                "let x = Tensor[3, DimList(2, 2, 2), DType.uint64]()\n",
                "x.data.simd_store(0, SIMD[DType.uint64, 8](0, 1, 2, 3, 4, 5, 6, 7))\n",
                "\n",
                "print(x[0, 2, 0])"
            ]
        },
        {
            "attachments": {},
            "cell_type": "markdown",
            "metadata": {},
            "source": [
                "## compile time bounds checking\n",
                "This bounds checking isn't optimal because it has a runtime cost, we could create a separate function that checks the shape at compile time:"
            ]
        },
        {
            "cell_type": "code",
            "execution_count": 12,
            "metadata": {},
            "outputs": [],
            "source": [
                "struct Tensor[rank: Int, shape: DimList, type: DType]:\n",
                "    var data: DTypePointer[type]\n",
                "    var buffer: NDBuffer[rank, shape, type]\n",
                "    fn __init__(inout self):\n",
                "        let size = shape.product[rank]().get()\n",
                "        self.data = DTypePointer[type].alloc(size)\n",
                "        memset_zero(self.data, size)\n",
                "        self.buffer = NDBuffer[rank, shape, type](self.data)\n",
                "\n",
                "    fn get[*idx: Int](self) -> SIMD[type, 1]:\n",
                "        @parameter\n",
                "        fn check_dim[i: Int]():\n",
                "            assert_param[idx[i] < shape.value[i].get()]()\n",
                "\n",
                "        unroll[rank, check_dim]()\n",
                "\n",
                "        return self.buffer.simd_load[1](VariadicList[Int](idx))"
            ]
        },
        {
            "attachments": {},
            "cell_type": "markdown",
            "metadata": {},
            "source": [
                "`*idx` is a variadic list of `Int`, so you can pass in as many as you like.\n",
                "\n",
                "`get()` Creates a closure named `check_dim` decorated by `@parameter` so it runs at compile time, it's checking that each item in `*idx` is less then the same dimension in the static `shape`. `unroll` is used to run it at compile-time `i` amount of times."
            ]
        },
        {
            "cell_type": "code",
            "execution_count": 13,
            "metadata": {},
            "outputs": [],
            "source": [
                "let x = Tensor[3, DimList(2, 2, 2), DType.uint64]()\n",
                "x.data.simd_store(0, SIMD[DType.uint64, 8](0, 1, 2, 3, 4, 5, 6, 7))"
            ]
        },
        {
            "cell_type": "code",
            "execution_count": 14,
            "metadata": {},
            "outputs": [
                {
                    "name": "stderr",
                    "output_type": "stream",
                    "text": [
                        "\u001b[0;1;30m\u001b[1mExpression [12]:17:56: \u001b[0m\u001b[1m                            constraint failed: param assertion failed\n",
                        "\u001b[0m            assert_param[idx[i] < shape.value[i].get()]()\n",
                        "\u001b[0;1;32m                                                       ^\n",
                        "\u001b[0m\u001b[0m\n",
                        "expression failed to parse (no further compiler diagnostics)"
                    ]
                }
            ],
            "source": [
                "print(x.get[1, 1, 2]())"
            ]
        },
        {
            "attachments": {},
            "cell_type": "markdown",
            "metadata": {},
            "source": [
                "## simd_load\n",
                "Loads SIMD values from the specified position, e.g.:"
            ]
        },
        {
            "cell_type": "code",
            "execution_count": 15,
            "metadata": {},
            "outputs": [
                {
                    "name": "stdout",
                    "output_type": "stream",
                    "text": [
                        "[0, 1, 2, 3]\n",
                        "[4, 5, 6, 7]\n",
                        "[6, 7]\n"
                    ]
                }
            ],
            "source": [
                "print(x.buffer.simd_load[4](0, 0, 0))\n",
                "print(x.buffer.simd_load[4](1, 0, 0))\n",
                "print(x.buffer.simd_load[2](1, 1, 0))"
            ]
        },
        {
            "attachments": {},
            "cell_type": "markdown",
            "metadata": {},
            "source": [
                "## simd_store\n",
                "Store a SIMD vector at the given ND index, for example here we take the first 4 numbers, multiply them by 8, and store them in the second half of the tensor."
            ]
        },
        {
            "cell_type": "code",
            "execution_count": 16,
            "metadata": {},
            "outputs": [
                {
                    "name": "stdout",
                    "output_type": "stream",
                    "text": [
                        "[0, 1, 2, 3, 0, 8, 16, 24]\n"
                    ]
                }
            ],
            "source": [
                "x.buffer.simd_store(StaticIntTuple[3](1, 0, 0), x.buffer.simd_load[4]() * 8)\n",
                "print(x.buffer.simd_load[8]())"
            ]
        },
        {
            "attachments": {},
            "cell_type": "markdown",
            "metadata": {},
            "source": [
                "## Fields"
            ]
        },
        {
            "cell_type": "code",
            "execution_count": 17,
            "metadata": {},
            "outputs": [
                {
                    "name": "stdout",
                    "output_type": "stream",
                    "text": [
                        "uint64\n",
                        "(2, 2, 2)\n",
                        "(4, 2, 1)\n",
                        "True\n"
                    ]
                }
            ],
            "source": [
                "print(x.buffer.dynamic_dtype)\n",
                "print(x.buffer.dynamic_shape)\n",
                "print(x.buffer.dynamic_stride)\n",
                "print(x.buffer.is_contiguous)"
            ]
        },
        {
            "attachments": {},
            "cell_type": "markdown",
            "metadata": {},
            "source": [
                "## bytecount\n",
                "The total amount of bytes in the buffer"
            ]
        },
        {
            "cell_type": "code",
            "execution_count": 18,
            "metadata": {},
            "outputs": [
                {
                    "name": "stdout",
                    "output_type": "stream",
                    "text": [
                        "64\n"
                    ]
                }
            ],
            "source": [
                "print(x.buffer.bytecount())"
            ]
        },
        {
            "attachments": {},
            "cell_type": "markdown",
            "metadata": {},
            "source": [
                "## dim\n",
                "The dimension at the given index"
            ]
        },
        {
            "cell_type": "code",
            "execution_count": 19,
            "metadata": {},
            "outputs": [
                {
                    "name": "stdout",
                    "output_type": "stream",
                    "text": [
                        "2\n"
                    ]
                }
            ],
            "source": [
                "print(x.buffer.dim[0]())"
            ]
        },
        {
            "attachments": {},
            "cell_type": "markdown",
            "metadata": {},
            "source": [
                "## fill\n",
                "Fills the buffer in chunks of you SIMD register size, but doesn't go out of bounds"
            ]
        },
        {
            "cell_type": "code",
            "execution_count": 20,
            "metadata": {},
            "outputs": [
                {
                    "name": "stdout",
                    "output_type": "stream",
                    "text": [
                        "10\n"
                    ]
                }
            ],
            "source": [
                "x.buffer.fill(10)\n",
                "print(x.buffer[1, 1, 1])"
            ]
        },
        {
            "attachments": {},
            "cell_type": "markdown",
            "metadata": {},
            "source": [
                "## flatten\n",
                "Returns a buffer of 1 dimension"
            ]
        },
        {
            "cell_type": "code",
            "execution_count": 21,
            "metadata": {},
            "outputs": [
                {
                    "name": "stdout",
                    "output_type": "stream",
                    "text": [
                        "10\n"
                    ]
                }
            ],
            "source": [
                "var y = x.buffer.flatten()\n",
                "print(y[7])"
            ]
        },
        {
            "attachments": {},
            "cell_type": "markdown",
            "metadata": {},
            "source": [
                "## get_nd_index\n",
                "Get the N-Dimensional Index needed to access the nth item"
            ]
        },
        {
            "cell_type": "code",
            "execution_count": 22,
            "metadata": {},
            "outputs": [
                {
                    "name": "stdout",
                    "output_type": "stream",
                    "text": [
                        "(1, 0, 1)\n"
                    ]
                }
            ],
            "source": [
                "print(x.buffer.get_nd_index(5))"
            ]
        },
        {
            "attachments": {},
            "cell_type": "markdown",
            "metadata": {},
            "source": [
                "## get_rank\n",
                "The total amount of dimensions"
            ]
        },
        {
            "cell_type": "code",
            "execution_count": 23,
            "metadata": {},
            "outputs": [
                {
                    "name": "stdout",
                    "output_type": "stream",
                    "text": [
                        "3\n"
                    ]
                }
            ],
            "source": [
                "print(x.buffer.get_rank())"
            ]
        },
        {
            "attachments": {},
            "cell_type": "markdown",
            "metadata": {},
            "source": [
                "## get_shape\n",
                "A tuple indicating dimensions of the buffer."
            ]
        },
        {
            "cell_type": "code",
            "execution_count": 24,
            "metadata": {},
            "outputs": [
                {
                    "name": "stdout",
                    "output_type": "stream",
                    "text": [
                        "(2, 2, 2)\n"
                    ]
                }
            ],
            "source": [
                "print(x.buffer.get_shape())"
            ]
        },
        {
            "attachments": {},
            "cell_type": "markdown",
            "metadata": {},
            "source": [
                "## num_elements\n",
                "Calculates the total number of elements in the buffer, works the same as `size`"
            ]
        },
        {
            "cell_type": "code",
            "execution_count": 25,
            "metadata": {},
            "outputs": [
                {
                    "name": "stdout",
                    "output_type": "stream",
                    "text": [
                        "8\n"
                    ]
                }
            ],
            "source": [
                "print(x.buffer.num_elements())"
            ]
        },
        {
            "attachments": {},
            "cell_type": "markdown",
            "metadata": {},
            "source": [
                "## size\n",
                "Calculates the total number of elements in the buffer, works the same as `num_elements`"
            ]
        },
        {
            "cell_type": "code",
            "execution_count": 26,
            "metadata": {},
            "outputs": [
                {
                    "name": "stdout",
                    "output_type": "stream",
                    "text": [
                        "8\n"
                    ]
                }
            ],
            "source": [
                "print(x.buffer.size())"
            ]
        },
        {
            "attachments": {},
            "cell_type": "markdown",
            "metadata": {},
            "source": [
                "## stack_allocation\n",
                "Return a new NDBuffer that is backed by stack allocated data, aligned to the DType"
            ]
        },
        {
            "cell_type": "code",
            "execution_count": 27,
            "metadata": {},
            "outputs": [
                {
                    "name": "stdout",
                    "output_type": "stream",
                    "text": [
                        "8\n"
                    ]
                }
            ],
            "source": [
                "let new = x.buffer.stack_allocation()\n",
                "\n",
                "print(new.size())"
            ]
        },
        {
            "attachments": {},
            "cell_type": "markdown",
            "metadata": {},
            "source": [
                "## stride\n",
                "The step size of a dimension, e.g. in a `2x2x2` tensor if you increment the first dimension, you'll skip over 4 elements:"
            ]
        },
        {
            "cell_type": "code",
            "execution_count": 28,
            "metadata": {},
            "outputs": [
                {
                    "name": "stdout",
                    "output_type": "stream",
                    "text": [
                        "4\n"
                    ]
                }
            ],
            "source": [
                "print(x.buffer.stride(0))"
            ]
        },
        {
            "attachments": {},
            "cell_type": "markdown",
            "metadata": {},
            "source": [
                "Lets prove this by seeing how we could access the 4th element:"
            ]
        },
        {
            "cell_type": "code",
            "execution_count": 29,
            "metadata": {},
            "outputs": [
                {
                    "name": "stdout",
                    "output_type": "stream",
                    "text": [
                        "(1, 0, 0)\n"
                    ]
                }
            ],
            "source": [
                "print(x.buffer.get_nd_index(4))"
            ]
        },
        {
            "attachments": {},
            "cell_type": "markdown",
            "metadata": {},
            "source": [
                "## zero\n",
                "Set all elements to the zero value"
            ]
        },
        {
            "cell_type": "code",
            "execution_count": 30,
            "metadata": {},
            "outputs": [
                {
                    "name": "stdout",
                    "output_type": "stream",
                    "text": [
                        "0\n"
                    ]
                }
            ],
            "source": [
                "x.buffer.zero()\n",
                "print(x.get[0, 0, 0]())"
            ]
        },
        {
            "attachments": {},
            "cell_type": "markdown",
            "metadata": {},
            "source": [
                "<CommentService />"
            ]
        }
    ],
    "metadata": {
        "kernelspec": {
            "display_name": "Mojo",
            "language": "mojo",
            "name": "mojo-jupyter-kernel"
        },
        "language_info": {
            "codemirror_mode": {
                "name": "mojo"
            },
            "file_extension": ".mojo",
            "mimetype": "text/x-mojo",
            "name": "mojo"
        },
        "orig_nbformat": 4
    },
    "nbformat": 4,
    "nbformat_minor": 2
}
