{
    "cells": [
        {
            "attachments": {},
            "cell_type": "markdown",
            "metadata": {},
            "source": [
                "---\n",
                "title: Buffer\n",
                "categories: Buffer\n",
                "usage: The buffer doesn't own the underlying memory, it's a view over data that is owned by another object\n",
                "---\n",
                "\n",
                "# Buffer\n",
                "\n",
                "The buffer doesn't own the underlying memory, it's a view over data that is owned by another object"
            ]
        },
        {
            "cell_type": "code",
            "execution_count": 1,
            "metadata": {},
            "outputs": [],
            "source": [
                "from Buffer import Buffer\n",
                "from DType import DType\n",
                "from Pointer import DTypePointer"
            ]
        },
        {
            "attachments": {},
            "cell_type": "markdown",
            "metadata": {},
            "source": [
                "Allocate 8 `uint8` and pass that pointer into the buffer:"
            ]
        },
        {
            "cell_type": "code",
            "execution_count": 2,
            "metadata": {},
            "outputs": [],
            "source": [
                "let p = DTypePointer[DType.uint8].alloc(8)\n",
                "let x = Buffer[8, DType.uint8](p)"
            ]
        },
        {
            "attachments": {},
            "cell_type": "markdown",
            "metadata": {},
            "source": [
                "## zero\n",
                "Zero all the valuees to make sure no garbage data is used:"
            ]
        },
        {
            "cell_type": "code",
            "execution_count": 3,
            "metadata": {},
            "outputs": [
                {
                    "name": "stdout",
                    "output_type": "stream",
                    "text": [
                        "[0, 0, 0, 0, 0, 0, 0, 0]\n"
                    ]
                }
            ],
            "source": [
                "x.zero()\n",
                "print(x.simd_load[8](0))"
            ]
        },
        {
            "attachments": {},
            "cell_type": "markdown",
            "metadata": {},
            "source": [
                "## Get Item and Set Item\n",
                "Loop through and set each item:"
            ]
        },
        {
            "cell_type": "code",
            "execution_count": 4,
            "metadata": {},
            "outputs": [
                {
                    "name": "stdout",
                    "output_type": "stream",
                    "text": [
                        "[0, 1, 2, 3, 4, 5, 6, 7]\n"
                    ]
                }
            ],
            "source": [
                "for i in range(len(x)):\n",
                "    x[i] = i\n",
                "\n",
                "print(x.simd_load[8](0))"
            ]
        },
        {
            "attachments": {},
            "cell_type": "markdown",
            "metadata": {},
            "source": [
                "## Copy Init"
            ]
        },
        {
            "attachments": {},
            "cell_type": "markdown",
            "metadata": {},
            "source": [
                "Copy the buffer `x` to `y`, change the dynamic size to 4, and multiply all the values by 10"
            ]
        },
        {
            "cell_type": "code",
            "execution_count": 5,
            "metadata": {},
            "outputs": [],
            "source": [
                "var y = x\n",
                "y.dynamic_size = 4\n",
                "\n",
                "for i in range(y.dynamic_size):\n",
                "    y[i] *= 10 "
            ]
        },
        {
            "attachments": {},
            "cell_type": "markdown",
            "metadata": {},
            "source": [
                "Now print the values from the original buffer `x`, to show they point to the same data:"
            ]
        },
        {
            "cell_type": "code",
            "execution_count": 6,
            "metadata": {},
            "outputs": [
                {
                    "name": "stdout",
                    "output_type": "stream",
                    "text": [
                        "[0, 10, 20, 30, 4, 5, 6, 7]\n"
                    ]
                }
            ],
            "source": [
                "print(x.simd_load[8](0))"
            ]
        },
        {
            "attachments": {},
            "cell_type": "markdown",
            "metadata": {},
            "source": [
                "## simd_store\n",
                "Utilize Single Instruction Mutliple Data by manipulating 32 bytes of data at the same time:"
            ]
        },
        {
            "cell_type": "code",
            "execution_count": 7,
            "metadata": {},
            "outputs": [
                {
                    "name": "stdout",
                    "output_type": "stream",
                    "text": [
                        "[0, 20, 40, 60, 40, 50, 60, 70]\n"
                    ]
                }
            ],
            "source": [
                "let first_half = x.simd_load[4](0) * 2\n",
                "let second_half = x.simd_load[4](4) * 10\n",
                "\n",
                "x.simd_store(0, first_half)\n",
                "x.simd_store(4, second_half)\n",
                "\n",
                "print(x.simd_load[8](0))"
            ]
        },
        {
            "attachments": {},
            "cell_type": "markdown",
            "metadata": {},
            "source": [
                "## simd_nt_store\n",
                "`nt` is non-temporal\n",
                "\n",
                "Skips the cache for memory that isn't going to be accessed soon, so if you have a large amount of data it doesn't fill up the cache and block something else that would benefit from quick access."
            ]
        },
        {
            "cell_type": "code",
            "execution_count": 8,
            "metadata": {},
            "outputs": [
                {
                    "name": "stdout",
                    "output_type": "stream",
                    "text": [
                        "[40, 50, 60, 70, 40, 50, 60, 70]\n"
                    ]
                }
            ],
            "source": [
                "x.simd_nt_store(0, second_half)\n",
                "print(x.simd_load[8](0))"
            ]
        },
        {
            "attachments": {},
            "cell_type": "markdown",
            "metadata": {},
            "source": [
                "## simd_fill\n",
                "Store the value in the argument for chunks of the width provided in the parameter"
            ]
        },
        {
            "cell_type": "code",
            "execution_count": 9,
            "metadata": {},
            "outputs": [
                {
                    "name": "stdout",
                    "output_type": "stream",
                    "text": [
                        "[10, 10, 10, 10, 10, 10, 10, 10]\n"
                    ]
                }
            ],
            "source": [
                "x.simd_fill[8](10)\n",
                "print(x.simd_load[8](0))"
            ]
        },
        {
            "attachments": {},
            "cell_type": "markdown",
            "metadata": {},
            "source": [
                "## stack_allocation\n",
                "Returns a buffer with the data allocated to the stack"
            ]
        },
        {
            "cell_type": "code",
            "execution_count": 10,
            "metadata": {},
            "outputs": [
                {
                    "name": "stdout",
                    "output_type": "stream",
                    "text": [
                        "[10, 10, 10, 10, 10, 10, 10, 10]\n"
                    ]
                }
            ],
            "source": [
                "x.stack_allocation()\n",
                "print(x.simd_load[8](0))"
            ]
        },
        {
            "attachments": {},
            "cell_type": "markdown",
            "metadata": {},
            "source": [
                "## bytecount\n",
                "Count the total bytes"
            ]
        },
        {
            "cell_type": "code",
            "execution_count": 11,
            "metadata": {},
            "outputs": [
                {
                    "name": "stdout",
                    "output_type": "stream",
                    "text": [
                        "8\n"
                    ]
                }
            ],
            "source": [
                "print(x.bytecount())"
            ]
        },
        {
            "attachments": {},
            "cell_type": "markdown",
            "metadata": {},
            "source": [
                "## aligned_simd_store\n",
                "Some registers work better with different alignments e.g. AVX-512 performs better with 64 bit alignment, so you might want padding for a type like a UInt32"
            ]
        },
        {
            "cell_type": "code",
            "execution_count": 12,
            "metadata": {},
            "outputs": [],
            "source": [
                "x.aligned_simd_store[8, 8](0, 5)"
            ]
        },
        {
            "attachments": {},
            "cell_type": "markdown",
            "metadata": {},
            "source": [
                "## aligned_simd_load\n",
                "Some registers work better with different alignments e.g. AVX-512 performs better with 64 bit alignment, so you might want padding for a type like a UInt32"
            ]
        },
        {
            "cell_type": "code",
            "execution_count": 13,
            "metadata": {},
            "outputs": [
                {
                    "name": "stdout",
                    "output_type": "stream",
                    "text": [
                        "[5, 5, 5, 5, 5, 5, 5, 5]\n"
                    ]
                }
            ],
            "source": [
                "print(x.aligned_simd_load[8, 8](0))"
            ]
        },
        {
            "attachments": {},
            "cell_type": "markdown",
            "metadata": {},
            "source": [
                "## aligned_stack_allocation\n",
                "Allocate to the stack with a given alignment for extra padding"
            ]
        },
        {
            "cell_type": "code",
            "execution_count": 14,
            "metadata": {},
            "outputs": [],
            "source": [
                "x.aligned_stack_allocation[8]()"
            ]
        },
        {
            "attachments": {},
            "cell_type": "markdown",
            "metadata": {},
            "source": [
                "## prefetch\n",
                "Specifies hows soon until the data will be visited again and how the data will be used, to optimize for the cache"
            ]
        },
        {
            "cell_type": "code",
            "execution_count": 15,
            "metadata": {},
            "outputs": [],
            "source": [
                "from Intrinsics import PrefetchOptions\n",
                "x.prefetch[PrefetchOptions().for_read().high_locality()](0)"
            ]
        },
        {
            "attachments": {},
            "cell_type": "markdown",
            "metadata": {},
            "source": [
                "<CommentService />"
            ]
        }
    ],
    "metadata": {
        "kernelspec": {
            "display_name": "Mojo",
            "language": "mojo",
            "name": "mojo-jupyter-kernel"
        },
        "language_info": {
            "codemirror_mode": {
                "name": "mojo"
            },
            "file_extension": ".mojo",
            "mimetype": "text/x-mojo",
            "name": "mojo"
        },
        "orig_nbformat": 4
    },
    "nbformat": 4,
    "nbformat_minor": 2
}
