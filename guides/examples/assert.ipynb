{
 "cells": [
  {
   "cell_type": "code",
   "execution_count": 1,
   "metadata": {},
   "outputs": [
    {
     "name": "stdout",
     "output_type": "stream",
     "text": [
      "Assert Error: 5 does not equal 10\n"
     ]
    },
    {
     "name": "stderr",
     "output_type": "stream",
     "text": [
      "error: Execution was interrupted, reason: signal SIGILL: illegal operand.\n",
      "The process has been left at the point where it was interrupted, use \"thread return -x\" to return to the state before expression evaluation.\n"
     ]
    }
   ],
   "source": [
    "from Intrinsics import llvm_intrinsic\n",
    "\n",
    "fn asrt(cond: Bool, msg: StringLiteral):\n",
    "        if cond:\n",
    "            return\n",
    "        print(\"Assert Error:\", msg)\n",
    "        llvm_intrinsic[\"llvm.trap\", NoneType]()\n",
    " \n",
    "\n",
    "asrt(5 == 10, \"5 does not equal 10\")"
   ]
  },
  {
   "cell_type": "code",
   "execution_count": 10,
   "metadata": {},
   "outputs": [
    {
     "name": "stdout",
     "output_type": "stream",
     "text": [
      "billy@gmail.com\n"
     ]
    }
   ],
   "source": [
    "from String import String\n",
    "\n",
    "let name = \"billy\"\n",
    "let domain = StringRef(\"gmail.com\")\n",
    "let x = String(name) + \"@\" + domain\n",
    "\n",
    "print(x)"
   ]
  }
 ],
 "metadata": {
  "kernelspec": {
   "display_name": "Mojo",
   "language": "mojo",
   "name": "mojo-jupyter-kernel"
  },
  "language_info": {
   "codemirror_mode": {
    "name": "mojo"
   },
   "file_extension": ".mojo",
   "mimetype": "text/x-mojo",
   "name": "mojo"
  },
  "orig_nbformat": 4
 },
 "nbformat": 4,
 "nbformat_minor": 2
}
